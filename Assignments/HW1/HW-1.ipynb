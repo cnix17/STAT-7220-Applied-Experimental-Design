{
  "cells": [
    {
      "cell_type": "markdown",
      "metadata": {
        "id": "view-in-github",
        "colab_type": "text"
      },
      "source": [
        "<a href=\"https://colab.research.google.com/github/cnix17/STAT-7220-Applied-Experimental-Design/blob/main/Assignments/HW1/HW-1.ipynb\" target=\"_parent\"><img src=\"https://colab.research.google.com/assets/colab-badge.svg\" alt=\"Open In Colab\"/></a>"
      ]
    },
    {
      "cell_type": "markdown",
      "id": "a6d135f8",
      "metadata": {
        "id": "a6d135f8"
      },
      "source": [
        "# Homework 1: Completely Randomized Designs\n",
        "## Dr. Austin R. Brown\n",
        "### School of Data Science & Analytics\n",
        "### Kennesaw State University\n",
        "\n",
        "**DUE: September 12, 2025**\n",
        "\n",
        "**INSTRUCTIONS:** You are a quality control analyst for a craft brewery experimenting with a new India Pale Ale (IPA). One key quality attribute of IPA is its bitterness, measured in International Bitterness Units (IBUs). The brewery wants to determine if the aging time (3, 4, or 5 weeks) affects the IBUs of the beer. To test this, the brewing team brews a single batch of the experimental IPA and divides it into aging tanks, with each tank randomly assigned to be aged for 3, 4, or 5 weeks. After aging, the IBUs of ten randomly selected bottles from each aging time are measured using a spectrophotometer. The data are in the file `IPA.xlsx`. With these data, I want you to:\n",
        "\n",
        "**Question 1.** Briefly define the objective of this experiment\n",
        "\n",
        "**Question 2.** Specify the outcome variable\n",
        "\n",
        "**Question 3.** Specify the independent variable. What are some possible lurking variables?\n",
        "\n",
        "**Question 4.** Briefly explain why a completely randomized design is appropriate for this experiment.\n",
        "\n",
        "**Question 5.** State the null and alternative hypotheses for this experiment.\n",
        "\n",
        "**Question 6.** Perform appropriate exploratory analysis, including summary statistics **and** data visualizations. Do the results of these analyses support the null or alternative hypothesis more strongly?\n",
        "\n",
        "**Question 7.** Build a one-way ANOVA model. Test the assumption of normality using **both** a visual method and a testing method. Do the results of the normality test(s) support the assumption of normality?\n",
        "\n",
        "**Question 8.** Test the assumption of homogeneity of variance using **both** a visual method and a testing method. Do the results of the test(s) support the assumption of homogeneity of variance?\n",
        "\n",
        "**Question 9.** Report the F-statistic and its associated p-value from the one-way ANOVA model. Which of our two hypotheses is more strongly supported? Why?\n",
        "\n",
        "**Question 10.** If the data more strongly support the alternative hypothesis, perform Tukey's HSD post-hoc test to determine which aging times are significantly different from each other. If the data more strongly support the null hypothesis, explain why a post-hoc test would not be appropriate.\n",
        "\n",
        "**Question 11.** Write a brief, contextual conclusion summarizing the results of your analyses."
      ]
    },
    {
      "cell_type": "code",
      "source": [
        "#Q1: Briefly define the objective of this experiment\n",
        "#Answer: Determining whether aging time (3, 4, or 5 weeks) changes the mean IBU of an IPA brewed from a single batch\n"
      ],
      "metadata": {
        "id": "GkiyAO9XEcXf"
      },
      "id": "GkiyAO9XEcXf",
      "execution_count": null,
      "outputs": []
    },
    {
      "cell_type": "code",
      "source": [
        "#Q2: The outcome variable is International Bitterness Units (IBU) measured on each bottle."
      ],
      "metadata": {
        "id": "8IpXy5tdEv5S"
      },
      "id": "8IpXy5tdEv5S",
      "execution_count": null,
      "outputs": []
    },
    {
      "cell_type": "code",
      "source": [
        "#Q3: Independent variable: Aging time of the IPA (levels = 3, 4, 5 weeks).\n",
        "#Possible lurking variables:\n",
        "#Tank effects: Slight differences in temperature, oxygen exposure, or seal quality between tanks.\n",
        "#Measurement effects: Spectrophotometer calibration or operator variation.\n",
        "#Bottle-level variation: differences in fill volume, yeast carryover, or micro-oxidation.\n",
        "#Environmental conditions: light exposure, vibration, or contamination during storage.\n"
      ],
      "metadata": {
        "id": "Lezxlk7CE5p2"
      },
      "id": "Lezxlk7CE5p2",
      "execution_count": null,
      "outputs": []
    },
    {
      "cell_type": "code",
      "source": [
        "#Q4: Randomly assigning bottles (or tanks) to aging times spreads unknown influences (tank position, micro-oxygenation, minor handling differences) evenly across groups, protecting validity of inference."
      ],
      "metadata": {
        "id": "jQ8a7tBfFR9Z"
      },
      "id": "jQ8a7tBfFR9Z",
      "execution_count": null,
      "outputs": []
    },
    {
      "cell_type": "code",
      "source": [
        "#Q5: Let μ3, μ4, μ5  be the population mean IBU for aging times 3, 4, 5 weeks\n",
        "#Null (H₀): μ3=μ4=μ5(no difference in mean IBU across aging times)\n",
        "#Alternative (H₁): At least one mean differs (not all μ#s are equal)\n"
      ],
      "metadata": {
        "id": "0UU_oqEAFXLR"
      },
      "id": "0UU_oqEAFXLR",
      "execution_count": null,
      "outputs": []
    },
    {
      "cell_type": "code",
      "source": [
        "# === COURSE REPO SETUP === #\n",
        "\n",
        "# 1. ENTER your GitHub username (the one that owns your fork)\n",
        "github_username = \"cnix17\"\n",
        "\n",
        "# 2. Name of the repo (don't change unless your fork name is different)\n",
        "repo_name = \"STAT-7220-Applied-Experimental-Design\"\n",
        "\n",
        "# 3. Build the full repo URL for cloning\n",
        "repo_url = f\"https://github.com/{github_username}/{repo_name}.git\"\n",
        "\n",
        "import os\n",
        "\n",
        "# --- Detect if we're already in a repo ---\n",
        "cwd = os.getcwd()\n",
        "if cwd.endswith(repo_name):\n",
        "    print(f\"✅ Already inside repo folder: {cwd}\")\n",
        "else:\n",
        "    # --- If the repo folder exists, check if it's nested ---\n",
        "    if os.path.exists(repo_name):\n",
        "        print(f\"⚠️ Found existing folder '{repo_name}'. Skipping clone to avoid nesting.\")\n",
        "    else:\n",
        "        print(f\"📥 Cloning repo from {repo_url}...\")\n",
        "        os.system(f\"git clone {repo_url}\")\n",
        "\n",
        "    # --- Change to repo directory ---\n",
        "    if os.path.exists(repo_name):\n",
        "        os.chdir(repo_name)\n",
        "        print(f\"📂 Changed directory to: {os.getcwd()}\")\n",
        "    else:\n",
        "        print(\"❌ ERROR: Repo folder not found. Please check your GitHub username.\")\n",
        "\n",
        "# --- Check if this is the instructor's repo instead of student's fork ---\n",
        "# This command needs to be run from within the repository directory\n",
        "remote_url = os.popen(\"git config --get remote.origin.url\").read().strip()\n",
        "\n",
        "if \"abrown9008\" in remote_url:\n",
        "    print(\"⚠️ WARNING: You are working in the instructor's repo, not your fork!\")\n",
        "    print(\"💡 Please fork the repo to your own account and update `github_username` above.\")\n",
        "else:\n",
        "    print(f\"🔗 Connected to fork at: {remote_url}\")\n",
        "\n",
        "# Set Today's Directory #\n",
        "\n",
        "today_dir = \"Assignments/HW1\"\n",
        "os.chdir(today_dir)\n",
        "print(f\"📂 Changed directory to: {os.getcwd()}\")\n",
        ""
      ],
      "metadata": {
        "id": "EZ6MnHcnJC7r",
        "outputId": "2af6ebb8-f8ad-45e3-efd9-4ae9517e14d6",
        "colab": {
          "base_uri": "https://localhost:8080/"
        }
      },
      "id": "EZ6MnHcnJC7r",
      "execution_count": 5,
      "outputs": [
        {
          "output_type": "stream",
          "name": "stdout",
          "text": [
            "📥 Cloning repo from https://github.com/cnix17/STAT-7220-Applied-Experimental-Design.git...\n",
            "📂 Changed directory to: /content/STAT-7220-Applied-Experimental-Design\n",
            "🔗 Connected to fork at: https://github.com/cnix17/STAT-7220-Applied-Experimental-Design.git\n",
            "📂 Changed directory to: /content/STAT-7220-Applied-Experimental-Design/Assignments/HW1\n"
          ]
        }
      ]
    },
    {
      "cell_type": "code",
      "source": [
        "#Q6:\n",
        "import pandas as pd\n",
        "import matplotlib.pyplot as plt\n",
        "import scipy.stats as stats\n",
        "from pathlib import Path\n",
        "import numpy as np\n",
        "\n",
        "\n",
        "# Load the dataset\n",
        "df = pd.read_excel(\"IPA.xlsx\")\n"
      ],
      "metadata": {
        "id": "tKL73_YFKKLT"
      },
      "id": "tKL73_YFKKLT",
      "execution_count": 6,
      "outputs": []
    },
    {
      "cell_type": "code",
      "source": [
        "# Checking if data is there\n",
        "df.head()"
      ],
      "metadata": {
        "id": "XOFcZ6wlKmzm",
        "outputId": "311eb2a5-a2ec-40fc-dabb-b1c84333c3f1",
        "colab": {
          "base_uri": "https://localhost:8080/",
          "height": 206
        }
      },
      "id": "XOFcZ6wlKmzm",
      "execution_count": 7,
      "outputs": [
        {
          "output_type": "execute_result",
          "data": {
            "text/plain": [
              "     Weeks    IBU\n",
              "0  3 Weeks  51.71\n",
              "1  3 Weeks  43.53\n",
              "2  3 Weeks  47.25\n",
              "3  3 Weeks  41.57\n",
              "4  3 Weeks  46.27"
            ],
            "text/html": [
              "\n",
              "  <div id=\"df-8d83bb30-a8df-4adb-abee-a404b3e329a1\" class=\"colab-df-container\">\n",
              "    <div>\n",
              "<style scoped>\n",
              "    .dataframe tbody tr th:only-of-type {\n",
              "        vertical-align: middle;\n",
              "    }\n",
              "\n",
              "    .dataframe tbody tr th {\n",
              "        vertical-align: top;\n",
              "    }\n",
              "\n",
              "    .dataframe thead th {\n",
              "        text-align: right;\n",
              "    }\n",
              "</style>\n",
              "<table border=\"1\" class=\"dataframe\">\n",
              "  <thead>\n",
              "    <tr style=\"text-align: right;\">\n",
              "      <th></th>\n",
              "      <th>Weeks</th>\n",
              "      <th>IBU</th>\n",
              "    </tr>\n",
              "  </thead>\n",
              "  <tbody>\n",
              "    <tr>\n",
              "      <th>0</th>\n",
              "      <td>3 Weeks</td>\n",
              "      <td>51.71</td>\n",
              "    </tr>\n",
              "    <tr>\n",
              "      <th>1</th>\n",
              "      <td>3 Weeks</td>\n",
              "      <td>43.53</td>\n",
              "    </tr>\n",
              "    <tr>\n",
              "      <th>2</th>\n",
              "      <td>3 Weeks</td>\n",
              "      <td>47.25</td>\n",
              "    </tr>\n",
              "    <tr>\n",
              "      <th>3</th>\n",
              "      <td>3 Weeks</td>\n",
              "      <td>41.57</td>\n",
              "    </tr>\n",
              "    <tr>\n",
              "      <th>4</th>\n",
              "      <td>3 Weeks</td>\n",
              "      <td>46.27</td>\n",
              "    </tr>\n",
              "  </tbody>\n",
              "</table>\n",
              "</div>\n",
              "    <div class=\"colab-df-buttons\">\n",
              "\n",
              "  <div class=\"colab-df-container\">\n",
              "    <button class=\"colab-df-convert\" onclick=\"convertToInteractive('df-8d83bb30-a8df-4adb-abee-a404b3e329a1')\"\n",
              "            title=\"Convert this dataframe to an interactive table.\"\n",
              "            style=\"display:none;\">\n",
              "\n",
              "  <svg xmlns=\"http://www.w3.org/2000/svg\" height=\"24px\" viewBox=\"0 -960 960 960\">\n",
              "    <path d=\"M120-120v-720h720v720H120Zm60-500h600v-160H180v160Zm220 220h160v-160H400v160Zm0 220h160v-160H400v160ZM180-400h160v-160H180v160Zm440 0h160v-160H620v160ZM180-180h160v-160H180v160Zm440 0h160v-160H620v160Z\"/>\n",
              "  </svg>\n",
              "    </button>\n",
              "\n",
              "  <style>\n",
              "    .colab-df-container {\n",
              "      display:flex;\n",
              "      gap: 12px;\n",
              "    }\n",
              "\n",
              "    .colab-df-convert {\n",
              "      background-color: #E8F0FE;\n",
              "      border: none;\n",
              "      border-radius: 50%;\n",
              "      cursor: pointer;\n",
              "      display: none;\n",
              "      fill: #1967D2;\n",
              "      height: 32px;\n",
              "      padding: 0 0 0 0;\n",
              "      width: 32px;\n",
              "    }\n",
              "\n",
              "    .colab-df-convert:hover {\n",
              "      background-color: #E2EBFA;\n",
              "      box-shadow: 0px 1px 2px rgba(60, 64, 67, 0.3), 0px 1px 3px 1px rgba(60, 64, 67, 0.15);\n",
              "      fill: #174EA6;\n",
              "    }\n",
              "\n",
              "    .colab-df-buttons div {\n",
              "      margin-bottom: 4px;\n",
              "    }\n",
              "\n",
              "    [theme=dark] .colab-df-convert {\n",
              "      background-color: #3B4455;\n",
              "      fill: #D2E3FC;\n",
              "    }\n",
              "\n",
              "    [theme=dark] .colab-df-convert:hover {\n",
              "      background-color: #434B5C;\n",
              "      box-shadow: 0px 1px 3px 1px rgba(0, 0, 0, 0.15);\n",
              "      filter: drop-shadow(0px 1px 2px rgba(0, 0, 0, 0.3));\n",
              "      fill: #FFFFFF;\n",
              "    }\n",
              "  </style>\n",
              "\n",
              "    <script>\n",
              "      const buttonEl =\n",
              "        document.querySelector('#df-8d83bb30-a8df-4adb-abee-a404b3e329a1 button.colab-df-convert');\n",
              "      buttonEl.style.display =\n",
              "        google.colab.kernel.accessAllowed ? 'block' : 'none';\n",
              "\n",
              "      async function convertToInteractive(key) {\n",
              "        const element = document.querySelector('#df-8d83bb30-a8df-4adb-abee-a404b3e329a1');\n",
              "        const dataTable =\n",
              "          await google.colab.kernel.invokeFunction('convertToInteractive',\n",
              "                                                    [key], {});\n",
              "        if (!dataTable) return;\n",
              "\n",
              "        const docLinkHtml = 'Like what you see? Visit the ' +\n",
              "          '<a target=\"_blank\" href=https://colab.research.google.com/notebooks/data_table.ipynb>data table notebook</a>'\n",
              "          + ' to learn more about interactive tables.';\n",
              "        element.innerHTML = '';\n",
              "        dataTable['output_type'] = 'display_data';\n",
              "        await google.colab.output.renderOutput(dataTable, element);\n",
              "        const docLink = document.createElement('div');\n",
              "        docLink.innerHTML = docLinkHtml;\n",
              "        element.appendChild(docLink);\n",
              "      }\n",
              "    </script>\n",
              "  </div>\n",
              "\n",
              "\n",
              "    <div id=\"df-e8e165a7-d697-445a-85e9-48b9f38c996e\">\n",
              "      <button class=\"colab-df-quickchart\" onclick=\"quickchart('df-e8e165a7-d697-445a-85e9-48b9f38c996e')\"\n",
              "                title=\"Suggest charts\"\n",
              "                style=\"display:none;\">\n",
              "\n",
              "<svg xmlns=\"http://www.w3.org/2000/svg\" height=\"24px\"viewBox=\"0 0 24 24\"\n",
              "     width=\"24px\">\n",
              "    <g>\n",
              "        <path d=\"M19 3H5c-1.1 0-2 .9-2 2v14c0 1.1.9 2 2 2h14c1.1 0 2-.9 2-2V5c0-1.1-.9-2-2-2zM9 17H7v-7h2v7zm4 0h-2V7h2v10zm4 0h-2v-4h2v4z\"/>\n",
              "    </g>\n",
              "</svg>\n",
              "      </button>\n",
              "\n",
              "<style>\n",
              "  .colab-df-quickchart {\n",
              "      --bg-color: #E8F0FE;\n",
              "      --fill-color: #1967D2;\n",
              "      --hover-bg-color: #E2EBFA;\n",
              "      --hover-fill-color: #174EA6;\n",
              "      --disabled-fill-color: #AAA;\n",
              "      --disabled-bg-color: #DDD;\n",
              "  }\n",
              "\n",
              "  [theme=dark] .colab-df-quickchart {\n",
              "      --bg-color: #3B4455;\n",
              "      --fill-color: #D2E3FC;\n",
              "      --hover-bg-color: #434B5C;\n",
              "      --hover-fill-color: #FFFFFF;\n",
              "      --disabled-bg-color: #3B4455;\n",
              "      --disabled-fill-color: #666;\n",
              "  }\n",
              "\n",
              "  .colab-df-quickchart {\n",
              "    background-color: var(--bg-color);\n",
              "    border: none;\n",
              "    border-radius: 50%;\n",
              "    cursor: pointer;\n",
              "    display: none;\n",
              "    fill: var(--fill-color);\n",
              "    height: 32px;\n",
              "    padding: 0;\n",
              "    width: 32px;\n",
              "  }\n",
              "\n",
              "  .colab-df-quickchart:hover {\n",
              "    background-color: var(--hover-bg-color);\n",
              "    box-shadow: 0 1px 2px rgba(60, 64, 67, 0.3), 0 1px 3px 1px rgba(60, 64, 67, 0.15);\n",
              "    fill: var(--button-hover-fill-color);\n",
              "  }\n",
              "\n",
              "  .colab-df-quickchart-complete:disabled,\n",
              "  .colab-df-quickchart-complete:disabled:hover {\n",
              "    background-color: var(--disabled-bg-color);\n",
              "    fill: var(--disabled-fill-color);\n",
              "    box-shadow: none;\n",
              "  }\n",
              "\n",
              "  .colab-df-spinner {\n",
              "    border: 2px solid var(--fill-color);\n",
              "    border-color: transparent;\n",
              "    border-bottom-color: var(--fill-color);\n",
              "    animation:\n",
              "      spin 1s steps(1) infinite;\n",
              "  }\n",
              "\n",
              "  @keyframes spin {\n",
              "    0% {\n",
              "      border-color: transparent;\n",
              "      border-bottom-color: var(--fill-color);\n",
              "      border-left-color: var(--fill-color);\n",
              "    }\n",
              "    20% {\n",
              "      border-color: transparent;\n",
              "      border-left-color: var(--fill-color);\n",
              "      border-top-color: var(--fill-color);\n",
              "    }\n",
              "    30% {\n",
              "      border-color: transparent;\n",
              "      border-left-color: var(--fill-color);\n",
              "      border-top-color: var(--fill-color);\n",
              "      border-right-color: var(--fill-color);\n",
              "    }\n",
              "    40% {\n",
              "      border-color: transparent;\n",
              "      border-right-color: var(--fill-color);\n",
              "      border-top-color: var(--fill-color);\n",
              "    }\n",
              "    60% {\n",
              "      border-color: transparent;\n",
              "      border-right-color: var(--fill-color);\n",
              "    }\n",
              "    80% {\n",
              "      border-color: transparent;\n",
              "      border-right-color: var(--fill-color);\n",
              "      border-bottom-color: var(--fill-color);\n",
              "    }\n",
              "    90% {\n",
              "      border-color: transparent;\n",
              "      border-bottom-color: var(--fill-color);\n",
              "    }\n",
              "  }\n",
              "</style>\n",
              "\n",
              "      <script>\n",
              "        async function quickchart(key) {\n",
              "          const quickchartButtonEl =\n",
              "            document.querySelector('#' + key + ' button');\n",
              "          quickchartButtonEl.disabled = true;  // To prevent multiple clicks.\n",
              "          quickchartButtonEl.classList.add('colab-df-spinner');\n",
              "          try {\n",
              "            const charts = await google.colab.kernel.invokeFunction(\n",
              "                'suggestCharts', [key], {});\n",
              "          } catch (error) {\n",
              "            console.error('Error during call to suggestCharts:', error);\n",
              "          }\n",
              "          quickchartButtonEl.classList.remove('colab-df-spinner');\n",
              "          quickchartButtonEl.classList.add('colab-df-quickchart-complete');\n",
              "        }\n",
              "        (() => {\n",
              "          let quickchartButtonEl =\n",
              "            document.querySelector('#df-e8e165a7-d697-445a-85e9-48b9f38c996e button');\n",
              "          quickchartButtonEl.style.display =\n",
              "            google.colab.kernel.accessAllowed ? 'block' : 'none';\n",
              "        })();\n",
              "      </script>\n",
              "    </div>\n",
              "\n",
              "    </div>\n",
              "  </div>\n"
            ],
            "application/vnd.google.colaboratory.intrinsic+json": {
              "type": "dataframe",
              "variable_name": "df",
              "summary": "{\n  \"name\": \"df\",\n  \"rows\": 30,\n  \"fields\": [\n    {\n      \"column\": \"Weeks\",\n      \"properties\": {\n        \"dtype\": \"category\",\n        \"num_unique_values\": 3,\n        \"samples\": [\n          \"3 Weeks\",\n          \"4 Weeks\",\n          \"5 Weeks\"\n        ],\n        \"semantic_type\": \"\",\n        \"description\": \"\"\n      }\n    },\n    {\n      \"column\": \"IBU\",\n      \"properties\": {\n        \"dtype\": \"number\",\n        \"std\": 14.518316279314448,\n        \"min\": 39.04,\n        \"max\": 90.32,\n        \"num_unique_values\": 30,\n        \"samples\": [\n          74.65,\n          55.9,\n          61.82\n        ],\n        \"semantic_type\": \"\",\n        \"description\": \"\"\n      }\n    }\n  ]\n}"
            }
          },
          "metadata": {},
          "execution_count": 7
        }
      ]
    },
    {
      "cell_type": "code",
      "source": [
        "# Summary statistics\n",
        "\n",
        "summary = df.groupby(\"Weeks\")[\"IBU\"].describe()\n",
        "print(summary)\n",
        "\n",
        "\n",
        " #Boxplot\n",
        "plt.figure()\n",
        "df.boxplot(column=\"IBU\", by=\"Weeks\")\n"
      ],
      "metadata": {
        "id": "Wntp3MKILEXB",
        "outputId": "b4968ef4-e42b-4e01-dd21-e7b06c5a3857",
        "colab": {
          "base_uri": "https://localhost:8080/",
          "height": 600
        }
      },
      "id": "Wntp3MKILEXB",
      "execution_count": 10,
      "outputs": [
        {
          "output_type": "stream",
          "name": "stdout",
          "text": [
            "         count    mean        std    min      25%     50%     75%    max\n",
            "Weeks                                                                   \n",
            "3 Weeks   10.0  45.657   5.548563  39.04  42.0600  44.255  47.005  57.75\n",
            "4 Weeks   10.0  60.164  10.390411  44.56  55.5325  60.940  64.625  81.99\n",
            "5 Weeks   10.0  71.791  12.627946  48.93  63.0475  71.465  81.100  90.32\n"
          ]
        },
        {
          "output_type": "execute_result",
          "data": {
            "text/plain": [
              "<Axes: title={'center': 'IBU'}, xlabel='Weeks'>"
            ]
          },
          "metadata": {},
          "execution_count": 10
        },
        {
          "output_type": "display_data",
          "data": {
            "text/plain": [
              "<Figure size 640x480 with 0 Axes>"
            ]
          },
          "metadata": {}
        },
        {
          "output_type": "display_data",
          "data": {
            "text/plain": [
              "<Figure size 640x480 with 1 Axes>"
            ],
            "image/png": "[encoded data removed]"
          },
          "metadata": {}
        }
      ]
    },
    {
      "cell_type": "code",
      "source": [
        "#Q6 Cont:\n",
        "# Group means with 95% CI\n",
        "gs = df.groupby(\"Weeks\")[\"IBU\"].agg([\"mean\",\"count\",\"std\"]).reset_index()\n",
        "gs[\"se\"] = gs[\"std\"] / np.sqrt(gs[\"count\"])\n",
        "tcrit = stats.t.ppf(0.975, df.shape[0] - gs.shape[0])\n",
        "gs[\"ci\"] = tcrit * gs[\"se\"]\n",
        "\n",
        "\n",
        "plt.figure()\n",
        "xv = np.arange(len(gs))\n",
        "plt.errorbar(xv, gs[\"mean\"], yerr=gs[\"ci\"], fmt=\"o\", capsize=5)\n",
        "plt.xticks(xv, gs[\"Weeks\"].astype(str))\n",
        "plt.title(\"Group means ±95% CI for IBU\")\n",
        "plt.xlabel(\"Weeks\")\n",
        "plt.ylabel(\"IBU\")\n",
        "plt.show()\n"
      ],
      "metadata": {
        "id": "yBp26u_ILeHf",
        "outputId": "6f4923e1-2a32-4f12-923b-68c5830b0f0f",
        "colab": {
          "base_uri": "https://localhost:8080/",
          "height": 472
        }
      },
      "id": "yBp26u_ILeHf",
      "execution_count": 11,
      "outputs": [
        {
          "output_type": "display_data",
          "data": {
            "text/plain": [
              "<Figure size 640x480 with 1 Axes>"
            ],
            "image/png": "[encoded data removed]"
          },
          "metadata": {}
        }
      ]
    },
    {
      "cell_type": "code",
      "source": [
        "#Question 7. Build a one-way ANOVA model. Test the assumption of normality using both a visual method and a testing method. Do the results of the normality test(s) support the assumption of normality?\n",
        "import statsmodels.api as sm\n",
        "import statsmodels.formula.api as smf\n",
        "import scipy.stats as stats\n",
        "import matplotlib.pyplot as plt\n",
        "\n",
        "\n",
        "# One-way ANOVA model\n",
        "model = smf.ols(\"IBU ~ C(Weeks)\", data=df).fit()\n",
        "anova_table = sm.stats.anova_lm(model, typ=2)\n",
        "print(anova_table)\n",
        "\n",
        "\n",
        "# Extract residuals\n",
        "resid = model.resid\n",
        "\n",
        "\n",
        "# QQ plot\n",
        "sm.qqplot(resid, line=\"45\", fit=True)\n",
        "plt.title(\"QQ plot of residuals\")\n",
        "plt.show()\n",
        "\n",
        "\n",
        "# Shapiro–Wilk test\n",
        "sh_stat, sh_p = stats.shapiro(resid)\n",
        "print(f\"Shapiro-Wilk W={sh_stat:.4f}, p={sh_p:.4g}\")\n"
      ],
      "metadata": {
        "id": "5jJw9pLdMcwc",
        "outputId": "e56f75d0-3176-4065-a5d7-3a89c6cd537e",
        "colab": {
          "base_uri": "https://localhost:8080/",
          "height": 541
        }
      },
      "id": "5jJw9pLdMcwc",
      "execution_count": 12,
      "outputs": [
        {
          "output_type": "stream",
          "name": "stdout",
          "text": [
            "              sum_sq    df          F    PR(>F)\n",
            "C(Weeks)  3428.75378   2.0  17.246546  0.000015\n",
            "Residual  2683.90994  27.0        NaN       NaN\n"
          ]
        },
        {
          "output_type": "display_data",
          "data": {
            "text/plain": [
              "<Figure size 640x480 with 1 Axes>"
            ],
            "image/png": "[encoded data removed]"
          },
          "metadata": {}
        },
        {
          "output_type": "stream",
          "name": "stdout",
          "text": [
            "Shapiro-Wilk W=0.9877, p=0.9734\n"
          ]
        }
      ]
    }
  ],
  "metadata": {
    "language_info": {
      "name": "python"
    },
    "colab": {
      "provenance": [],
      "include_colab_link": true
    },
    "kernelspec": {
      "name": "python3",
      "display_name": "Python 3"
    }
  },
  "nbformat": 4,
  "nbformat_minor": 5
}