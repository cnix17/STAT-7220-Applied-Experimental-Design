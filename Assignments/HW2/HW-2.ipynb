{
  "cells": [
    {
      "cell_type": "markdown",
      "id": "473cf89b",
      "metadata": {
        "id": "473cf89b"
      },
      "source": [
        "# Homework 2: Randomized Block and Latin Square Designs\n",
        "## Dr. Austin R. Brown\n",
        "### School of Data Science & Analytics\n",
        "### Kennesaw State University\n",
        "\n",
        "**DUE: October 3, 2025**\n",
        "\n",
        "**PART 1 INSTRUCTIONS:** You are an educational researcher interested in comparing different methods for teaching data science to undergraduate students. There are three different methods you are interested in comparing: (1) Direct Instruction (traditional method); (2) Inquiry-Based Learning (teacher facilitates student problem solving); (3) Collaborative Learning (students working in small groups). To compare these methods, you decide to randomly recruit undergraduate data science students to be part of a workshop on hypothesis testing basics. Students will be randomly assigned to one of three workshops, where each workshop employs a different teaching method. At the end of the workshop, students will be given a 50-question quiz where their understanding of hypothesis testing will be assessed. Percentage scores on this quiz serve as the outcome of interest.\n",
        "\n",
        "However, it would be apparent that the prior level of knowledge a student possess about hypothesis testing may serve as a potential confounding variable that you would want to control for. Thus, the Prior Knowledge a given student has about hypothesis testing is categorized into \"High\" and \"Low\". The data from this experiment are contained in the `Data Science Teaching Method.xlsx` file. With these data, your tasks are:\n",
        "\n",
        "**Question 1.** Briefly define the objective of this experiment\n",
        "\n",
        "**Question 2.** Specify the outcome variable\n",
        "\n",
        "**Question 3.** Specify the independent variable and blocking factor. What are some possible lurking variables?\n",
        "\n",
        "**Question 4.** Briefly explain why a randomized block design would be appropriate here. Similarly, explain why a completely randomized design would not be appropriate.\n",
        "\n",
        "**Question 5.** State the null and alternative hypotheses for this experiment.\n",
        "\n",
        "**Question 6.** Perform appropriate exploratory analysis, including summary statistics **and** data visualizations. Do the results of these analyses support the null or alternative hypothesis more strongly?\n",
        "\n",
        "**Question 7.** Build a two-way ANOVA model. Test the assumption of normality using **both** a visual method and a testing method. Do the results of the normality test(s) support the assumption of normality?\n",
        "\n",
        "**Question 8.** Test the assumption of homogeneity of variance using **both** a visual method and a testing method. Do the results of the test(s) support the assumption of homogeneity of variance?\n",
        "\n",
        "**Question 9.** Report the F-statistic and its associated p-value for the treatment effect. Which of our two hypotheses is more strongly supported? Why?\n",
        "\n",
        "**Question 10.** If the data more strongly support the alternative hypothesis, perform Tukey's HSD post-hoc test to determine which levels of the treatment effect are significantly different from each other. If the data more strongly support the null hypothesis, explain why a post-hoc test would not be appropriate.\n",
        "\n",
        "**Question 11.** Write a brief, contextual conclusion summarizing the results of your analyses, including potential limitations of this experiment.\n",
        "\n",
        "**PART 2 INSTRUCTIONS**: Now suppose a university is evaluating the effectiveness of four different online learning platforms (say A, B, C, and D) on student engagement for students taking an undergraduate data science course in an online synchronous format. One section of the course is offered Monday through Thursday in the Morning, Early Afternoon, Mid-Afternoon, and Evening sections. Student engagement is measured through the total number of logins to the online learning platform for a given course section over the course of the\n",
        "semester. Below is a table describing the study design and factors:\n",
        "\n",
        "\n",
        "| Section \\ Day     | Monday | Tuesday | Wednesday | Thursday |\n",
        "|-------------------|--------|---------|-----------|----------|\n",
        "| **Morning**       | A      | B       | C         | D        |\n",
        "| **Early Afternoon** | B      | C       | D         | A        |\n",
        "| **Mid-Afternoon** | C      | D       | A         | B        |\n",
        "| **Evening**       | D      | A       | B         | C        |\n",
        "\n",
        "\n",
        "Here, our main interest is in comparing engagement across the online learning platforms, but we also want to control for Day of the Week as well as Time of Day, as these could potentially be confounding variables. The data for this experiment are contained in the `Online Learning and Engagement.xlsx` file. With these data, your tasks are:\n",
        "\n",
        "**Question 1.** Briefly define the objective of this experiment\n",
        "\n",
        "**Question 2.** Specify the outcome variable\n",
        "\n",
        "**Question 3.** Specify the independent variable and blocking factors. What are some other possible lurking variables?\n",
        "\n",
        "**Question 4.** Briefly explain why a Latin Square Design would be appropriate here. Similarly, explain why a completely randomized design or randomized block design would not be appropriate.\n",
        "\n",
        "**Question 5.** State the null and alternative hypotheses for this experiment.\n",
        "\n",
        "**Question 6.** Perform appropriate exploratory analysis, including summary statistics **and** data visualizations. Do the results of these analyses support the null or alternative hypothesis more strongly?\n",
        "\n",
        "**Question 7.** Build a three-way ANOVA model. Test the assumption of normality using **both** a visual method and a testing method. Do the results of the normality test(s) support the assumption of normality?\n",
        "\n",
        "**Question 8.** Test the assumption of homogeneity of variance using **both** a visual method and a testing method. Do the results of the test(s) support the assumption of homogeneity of variance?\n",
        "\n",
        "**Question 9.** Report the F-statistic and its associated p-value for the treatment effect. Which of our two hypotheses is more strongly supported? Why?\n",
        "\n",
        "**Question 10.** If the data more strongly support the alternative hypothesis, perform Tukey's HSD post-hoc test to determine which levels of the treatment effect are significantly different from each other. If the data more strongly support the null hypothesis, explain why a post-hoc test would not be appropriate.\n",
        "\n",
        "**Question 11.** Write a brief conclusion summarizing the results of your analyses, including potential limitations of this experiment."
      ]
    },
    {
      "cell_type": "code",
      "source": [
        "# === COURSE REPO SETUP === #\n",
        "\n",
        "# 1. ENTER your GitHub username (the one that owns your fork)\n",
        "github_username = \"cnix17\"\n",
        "\n",
        "# 2. Name of the repo (don't change unless your fork name is different)\n",
        "repo_name = \"STAT-7220-Applied-Experimental-Design\"\n",
        "\n",
        "# 3. Build the full repo URL for cloning\n",
        "repo_url = f\"https://github.com/{github_username}/{repo_name}.git\"\n",
        "\n",
        "import os\n",
        "\n",
        "# --- Detect if we're already in a repo ---\n",
        "cwd = os.getcwd()\n",
        "if cwd.endswith(repo_name):\n",
        "    print(f\"✅ Already inside repo folder: {cwd}\")\n",
        "else:\n",
        "    # --- If the repo folder exists, check if it's nested ---\n",
        "    if os.path.exists(repo_name):\n",
        "        print(f\"⚠️ Found existing folder '{repo_name}'. Skipping clone to avoid nesting.\")\n",
        "    else:\n",
        "        print(f\"📥 Cloning repo from {repo_url}...\")\n",
        "        os.system(f\"git clone {repo_url}\")\n",
        "\n",
        "    # --- Change to repo directory ---\n",
        "    if os.path.exists(repo_name):\n",
        "        os.chdir(repo_name)\n",
        "        print(f\"📂 Changed directory to: {os.getcwd()}\")\n",
        "    else:\n",
        "        print(\"❌ ERROR: Repo folder not found. Please check your GitHub username.\")\n",
        "\n",
        "# --- Check if this is the instructor's repo instead of student's fork ---\n",
        "# This command needs to be run from within the repository directory\n",
        "remote_url = os.popen(\"git config --get remote.origin.url\").read().strip()\n",
        "\n",
        "if \"abrown9008\" in remote_url:\n",
        "    print(\"⚠️ WARNING: You are working in the instructor's repo, not your fork!\")\n",
        "    print(\"💡 Please fork the repo to your own account and update `github_username` above.\")\n",
        "else:\n",
        "    print(f\"🔗 Connected to fork at: {remote_url}\")\n",
        "\n",
        "# Set Today's Directory #\n",
        "\n",
        "today_dir = \"Assignments/HW2\"\n",
        "os.chdir(today_dir)\n",
        "print(f\"📂 Changed directory to: {os.getcwd()}\")\n"
      ],
      "metadata": {
        "colab": {
          "base_uri": "https://localhost:8080/"
        },
        "id": "ZxDmd00qJS8s",
        "outputId": "e9dc17a7-9844-4e7e-f37c-674c354269d0"
      },
      "id": "ZxDmd00qJS8s",
      "execution_count": 1,
      "outputs": [
        {
          "output_type": "stream",
          "name": "stdout",
          "text": [
            "📥 Cloning repo from https://github.com/cnix17/STAT-7220-Applied-Experimental-Design.git...\n",
            "📂 Changed directory to: /content/STAT-7220-Applied-Experimental-Design\n",
            "🔗 Connected to fork at: https://github.com/cnix17/STAT-7220-Applied-Experimental-Design.git\n",
            "📂 Changed directory to: /content/STAT-7220-Applied-Experimental-Design/Assignments/HW2\n"
          ]
        }
      ]
    },
    {
      "cell_type": "code",
      "source": [
        "#Question 1\n",
        "import pandas as pd\n",
        "\n",
        "# Load Part 1 dataset\n",
        "df = pd.read_excel(\"Data Science Teaching Method.xlsx\")\n",
        "\n",
        "# Clean column names\n",
        "df.columns = [c.strip().lower().replace(\" \", \"_\").replace(\"-\", \"_\") for c in df.columns]\n",
        "\n",
        "# Preview\n",
        "df.head()\n",
        "\n",
        "\n",
        "#The objective is to determine whether the teaching method (Direct Instruction, Inquiry-Based, Collaborative) affects quiz performance on a hypothesis-testing quiz, while controlling for prior knowledge (High vs Low) via a randomized block design.\n"
      ],
      "metadata": {
        "colab": {
          "base_uri": "https://localhost:8080/",
          "height": 206
        },
        "id": "XY2PwZfbJdSE",
        "outputId": "a6745bbc-21c9-4593-a5a8-c32eddeaa457"
      },
      "id": "XY2PwZfbJdSE",
      "execution_count": 9,
      "outputs": [
        {
          "output_type": "execute_result",
          "data": {
            "text/plain": [
              "  prior_knowledge teaching_method  score\n",
              "0             Low          Direct  80.20\n",
              "1             Low          Direct  75.29\n",
              "2             Low          Direct  75.00\n",
              "3             Low          Direct  79.32\n",
              "4             Low          Direct  59.89"
            ],
            "text/html": [
              "\n",
              "  <div id=\"df-4fd5a651-4524-4250-898f-3153307392be\" class=\"colab-df-container\">\n",
              "    <div>\n",
              "<style scoped>\n",
              "    .dataframe tbody tr th:only-of-type {\n",
              "        vertical-align: middle;\n",
              "    }\n",
              "\n",
              "    .dataframe tbody tr th {\n",
              "        vertical-align: top;\n",
              "    }\n",
              "\n",
              "    .dataframe thead th {\n",
              "        text-align: right;\n",
              "    }\n",
              "</style>\n",
              "<table border=\"1\" class=\"dataframe\">\n",
              "  <thead>\n",
              "    <tr style=\"text-align: right;\">\n",
              "      <th></th>\n",
              "      <th>prior_knowledge</th>\n",
              "      <th>teaching_method</th>\n",
              "      <th>score</th>\n",
              "    </tr>\n",
              "  </thead>\n",
              "  <tbody>\n",
              "    <tr>\n",
              "      <th>0</th>\n",
              "      <td>Low</td>\n",
              "      <td>Direct</td>\n",
              "      <td>80.20</td>\n",
              "    </tr>\n",
              "    <tr>\n",
              "      <th>1</th>\n",
              "      <td>Low</td>\n",
              "      <td>Direct</td>\n",
              "      <td>75.29</td>\n",
              "    </tr>\n",
              "    <tr>\n",
              "      <th>2</th>\n",
              "      <td>Low</td>\n",
              "      <td>Direct</td>\n",
              "      <td>75.00</td>\n",
              "    </tr>\n",
              "    <tr>\n",
              "      <th>3</th>\n",
              "      <td>Low</td>\n",
              "      <td>Direct</td>\n",
              "      <td>79.32</td>\n",
              "    </tr>\n",
              "    <tr>\n",
              "      <th>4</th>\n",
              "      <td>Low</td>\n",
              "      <td>Direct</td>\n",
              "      <td>59.89</td>\n",
              "    </tr>\n",
              "  </tbody>\n",
              "</table>\n",
              "</div>\n",
              "    <div class=\"colab-df-buttons\">\n",
              "\n",
              "  <div class=\"colab-df-container\">\n",
              "    <button class=\"colab-df-convert\" onclick=\"convertToInteractive('df-4fd5a651-4524-4250-898f-3153307392be')\"\n",
              "            title=\"Convert this dataframe to an interactive table.\"\n",
              "            style=\"display:none;\">\n",
              "\n",
              "  <svg xmlns=\"http://www.w3.org/2000/svg\" height=\"24px\" viewBox=\"0 -960 960 960\">\n",
              "    <path d=\"M120-120v-720h720v720H120Zm60-500h600v-160H180v160Zm220 220h160v-160H400v160Zm0 220h160v-160H400v160ZM180-400h160v-160H180v160Zm440 0h160v-160H620v160ZM180-180h160v-160H180v160Zm440 0h160v-160H620v160Z\"/>\n",
              "  </svg>\n",
              "    </button>\n",
              "\n",
              "  <style>\n",
              "    .colab-df-container {\n",
              "      display:flex;\n",
              "      gap: 12px;\n",
              "    }\n",
              "\n",
              "    .colab-df-convert {\n",
              "      background-color: #E8F0FE;\n",
              "      border: none;\n",
              "      border-radius: 50%;\n",
              "      cursor: pointer;\n",
              "      display: none;\n",
              "      fill: #1967D2;\n",
              "      height: 32px;\n",
              "      padding: 0 0 0 0;\n",
              "      width: 32px;\n",
              "    }\n",
              "\n",
              "    .colab-df-convert:hover {\n",
              "      background-color: #E2EBFA;\n",
              "      box-shadow: 0px 1px 2px rgba(60, 64, 67, 0.3), 0px 1px 3px 1px rgba(60, 64, 67, 0.15);\n",
              "      fill: #174EA6;\n",
              "    }\n",
              "\n",
              "    .colab-df-buttons div {\n",
              "      margin-bottom: 4px;\n",
              "    }\n",
              "\n",
              "    [theme=dark] .colab-df-convert {\n",
              "      background-color: #3B4455;\n",
              "      fill: #D2E3FC;\n",
              "    }\n",
              "\n",
              "    [theme=dark] .colab-df-convert:hover {\n",
              "      background-color: #434B5C;\n",
              "      box-shadow: 0px 1px 3px 1px rgba(0, 0, 0, 0.15);\n",
              "      filter: drop-shadow(0px 1px 2px rgba(0, 0, 0, 0.3));\n",
              "      fill: #FFFFFF;\n",
              "    }\n",
              "  </style>\n",
              "\n",
              "    <script>\n",
              "      const buttonEl =\n",
              "        document.querySelector('#df-4fd5a651-4524-4250-898f-3153307392be button.colab-df-convert');\n",
              "      buttonEl.style.display =\n",
              "        google.colab.kernel.accessAllowed ? 'block' : 'none';\n",
              "\n",
              "      async function convertToInteractive(key) {\n",
              "        const element = document.querySelector('#df-4fd5a651-4524-4250-898f-3153307392be');\n",
              "        const dataTable =\n",
              "          await google.colab.kernel.invokeFunction('convertToInteractive',\n",
              "                                                    [key], {});\n",
              "        if (!dataTable) return;\n",
              "\n",
              "        const docLinkHtml = 'Like what you see? Visit the ' +\n",
              "          '<a target=\"_blank\" href=https://colab.research.google.com/notebooks/data_table.ipynb>data table notebook</a>'\n",
              "          + ' to learn more about interactive tables.';\n",
              "        element.innerHTML = '';\n",
              "        dataTable['output_type'] = 'display_data';\n",
              "        await google.colab.output.renderOutput(dataTable, element);\n",
              "        const docLink = document.createElement('div');\n",
              "        docLink.innerHTML = docLinkHtml;\n",
              "        element.appendChild(docLink);\n",
              "      }\n",
              "    </script>\n",
              "  </div>\n",
              "\n",
              "\n",
              "    <div id=\"df-31ba8723-86c1-4720-8e1b-630a76e299c1\">\n",
              "      <button class=\"colab-df-quickchart\" onclick=\"quickchart('df-31ba8723-86c1-4720-8e1b-630a76e299c1')\"\n",
              "                title=\"Suggest charts\"\n",
              "                style=\"display:none;\">\n",
              "\n",
              "<svg xmlns=\"http://www.w3.org/2000/svg\" height=\"24px\"viewBox=\"0 0 24 24\"\n",
              "     width=\"24px\">\n",
              "    <g>\n",
              "        <path d=\"M19 3H5c-1.1 0-2 .9-2 2v14c0 1.1.9 2 2 2h14c1.1 0 2-.9 2-2V5c0-1.1-.9-2-2-2zM9 17H7v-7h2v7zm4 0h-2V7h2v10zm4 0h-2v-4h2v4z\"/>\n",
              "    </g>\n",
              "</svg>\n",
              "      </button>\n",
              "\n",
              "<style>\n",
              "  .colab-df-quickchart {\n",
              "      --bg-color: #E8F0FE;\n",
              "      --fill-color: #1967D2;\n",
              "      --hover-bg-color: #E2EBFA;\n",
              "      --hover-fill-color: #174EA6;\n",
              "      --disabled-fill-color: #AAA;\n",
              "      --disabled-bg-color: #DDD;\n",
              "  }\n",
              "\n",
              "  [theme=dark] .colab-df-quickchart {\n",
              "      --bg-color: #3B4455;\n",
              "      --fill-color: #D2E3FC;\n",
              "      --hover-bg-color: #434B5C;\n",
              "      --hover-fill-color: #FFFFFF;\n",
              "      --disabled-bg-color: #3B4455;\n",
              "      --disabled-fill-color: #666;\n",
              "  }\n",
              "\n",
              "  .colab-df-quickchart {\n",
              "    background-color: var(--bg-color);\n",
              "    border: none;\n",
              "    border-radius: 50%;\n",
              "    cursor: pointer;\n",
              "    display: none;\n",
              "    fill: var(--fill-color);\n",
              "    height: 32px;\n",
              "    padding: 0;\n",
              "    width: 32px;\n",
              "  }\n",
              "\n",
              "  .colab-df-quickchart:hover {\n",
              "    background-color: var(--hover-bg-color);\n",
              "    box-shadow: 0 1px 2px rgba(60, 64, 67, 0.3), 0 1px 3px 1px rgba(60, 64, 67, 0.15);\n",
              "    fill: var(--button-hover-fill-color);\n",
              "  }\n",
              "\n",
              "  .colab-df-quickchart-complete:disabled,\n",
              "  .colab-df-quickchart-complete:disabled:hover {\n",
              "    background-color: var(--disabled-bg-color);\n",
              "    fill: var(--disabled-fill-color);\n",
              "    box-shadow: none;\n",
              "  }\n",
              "\n",
              "  .colab-df-spinner {\n",
              "    border: 2px solid var(--fill-color);\n",
              "    border-color: transparent;\n",
              "    border-bottom-color: var(--fill-color);\n",
              "    animation:\n",
              "      spin 1s steps(1) infinite;\n",
              "  }\n",
              "\n",
              "  @keyframes spin {\n",
              "    0% {\n",
              "      border-color: transparent;\n",
              "      border-bottom-color: var(--fill-color);\n",
              "      border-left-color: var(--fill-color);\n",
              "    }\n",
              "    20% {\n",
              "      border-color: transparent;\n",
              "      border-left-color: var(--fill-color);\n",
              "      border-top-color: var(--fill-color);\n",
              "    }\n",
              "    30% {\n",
              "      border-color: transparent;\n",
              "      border-left-color: var(--fill-color);\n",
              "      border-top-color: var(--fill-color);\n",
              "      border-right-color: var(--fill-color);\n",
              "    }\n",
              "    40% {\n",
              "      border-color: transparent;\n",
              "      border-right-color: var(--fill-color);\n",
              "      border-top-color: var(--fill-color);\n",
              "    }\n",
              "    60% {\n",
              "      border-color: transparent;\n",
              "      border-right-color: var(--fill-color);\n",
              "    }\n",
              "    80% {\n",
              "      border-color: transparent;\n",
              "      border-right-color: var(--fill-color);\n",
              "      border-bottom-color: var(--fill-color);\n",
              "    }\n",
              "    90% {\n",
              "      border-color: transparent;\n",
              "      border-bottom-color: var(--fill-color);\n",
              "    }\n",
              "  }\n",
              "</style>\n",
              "\n",
              "      <script>\n",
              "        async function quickchart(key) {\n",
              "          const quickchartButtonEl =\n",
              "            document.querySelector('#' + key + ' button');\n",
              "          quickchartButtonEl.disabled = true;  // To prevent multiple clicks.\n",
              "          quickchartButtonEl.classList.add('colab-df-spinner');\n",
              "          try {\n",
              "            const charts = await google.colab.kernel.invokeFunction(\n",
              "                'suggestCharts', [key], {});\n",
              "          } catch (error) {\n",
              "            console.error('Error during call to suggestCharts:', error);\n",
              "          }\n",
              "          quickchartButtonEl.classList.remove('colab-df-spinner');\n",
              "          quickchartButtonEl.classList.add('colab-df-quickchart-complete');\n",
              "        }\n",
              "        (() => {\n",
              "          let quickchartButtonEl =\n",
              "            document.querySelector('#df-31ba8723-86c1-4720-8e1b-630a76e299c1 button');\n",
              "          quickchartButtonEl.style.display =\n",
              "            google.colab.kernel.accessAllowed ? 'block' : 'none';\n",
              "        })();\n",
              "      </script>\n",
              "    </div>\n",
              "\n",
              "    </div>\n",
              "  </div>\n"
            ],
            "application/vnd.google.colaboratory.intrinsic+json": {
              "type": "dataframe",
              "summary": "{\n  \"name\": \"#The objective is to determine whether the teaching method (Direct Instruction, Inquiry-Based, Collaborative) affects quiz performance on a hypothesis-testing quiz, while controlling for prior knowledge (High vs Low) via a randomized block design\",\n  \"rows\": 5,\n  \"fields\": [\n    {\n      \"column\": \"prior_knowledge\",\n      \"properties\": {\n        \"dtype\": \"category\",\n        \"num_unique_values\": 1,\n        \"samples\": [\n          \"Low\"\n        ],\n        \"semantic_type\": \"\",\n        \"description\": \"\"\n      }\n    },\n    {\n      \"column\": \"teaching_method\",\n      \"properties\": {\n        \"dtype\": \"category\",\n        \"num_unique_values\": 1,\n        \"samples\": [\n          \"Direct\"\n        ],\n        \"semantic_type\": \"\",\n        \"description\": \"\"\n      }\n    },\n    {\n      \"column\": \"score\",\n      \"properties\": {\n        \"dtype\": \"number\",\n        \"std\": 8.192688813814424,\n        \"min\": 59.89,\n        \"max\": 80.2,\n        \"num_unique_values\": 5,\n        \"samples\": [\n          75.29\n        ],\n        \"semantic_type\": \"\",\n        \"description\": \"\"\n      }\n    }\n  ]\n}"
            }
          },
          "metadata": {},
          "execution_count": 9
        }
      ]
    },
    {
      "cell_type": "code",
      "source": [
        "#Question 2\n",
        "# Identify numeric columns (candidates for outcome)\n",
        "numeric_cols = df.select_dtypes(include=\"number\").columns.tolist()\n",
        "print(\"Numeric columns:\", numeric_cols)\n",
        "\n",
        "# Quick stats to confirm the outcome looks like a score\n",
        "print(df[numeric_cols].describe())\n",
        "\n",
        "\n",
        "#The outcome variable is the quiz score.\n"
      ],
      "metadata": {
        "colab": {
          "base_uri": "https://localhost:8080/"
        },
        "id": "WGzpuH1sKByy",
        "outputId": "2acb3810-b2c9-4942-c3b3-a95a90413d14"
      },
      "id": "WGzpuH1sKByy",
      "execution_count": 10,
      "outputs": [
        {
          "output_type": "stream",
          "name": "stdout",
          "text": [
            "Numeric columns: ['score']\n",
            "            score\n",
            "count   60.000000\n",
            "mean    82.381167\n",
            "std      8.882477\n",
            "min     59.890000\n",
            "25%     76.365000\n",
            "50%     81.930000\n",
            "75%     89.077500\n",
            "max    105.060000\n"
          ]
        }
      ]
    },
    {
      "cell_type": "code",
      "source": [
        "#Question 3\n",
        "\n",
        "\n",
        "# Categorical vs numeric\n",
        "cat_cols = [c for c in df.columns if df[c].dtype == \"object\"]\n",
        "num_cols = df.select_dtypes(include=\"number\").columns.tolist()\n",
        "print(\"Categorical columns:\", cat_cols)\n",
        "print(\"Numeric columns:\", num_cols)\n",
        "\n",
        "# Identify treatment (method), block (prior knowledge), and outcome (score)\n",
        "method_col = [c for c in df.columns if \"method\" in c][0]\n",
        "block_col  = [c for c in df.columns if (\"prior\" in c) or (\"knowledge\" in c)][0]\n",
        "score_col  = num_cols[0]\n",
        "\n",
        "print(\"\\nIndependent variable (treatment):\", method_col)\n",
        "print(df[method_col].value_counts(dropna=False))\n",
        "\n",
        "print(\"\\nBlocking factor:\", block_col)\n",
        "print(df[block_col].value_counts(dropna=False))\n",
        "\n",
        "print(\"\\nOutcome variable:\", score_col)\n",
        "\n",
        "#Independent Variable: Teaching method\n",
        "\n",
        "\n",
        "#Blocking Factor: Prior knowledge\n",
        "\n",
        "\n",
        "#Possible Lurking Variables: Instructor differences (style/experience), time of day, classroom environment, class size/group dynamics, student motivation/study habits, prior exposure to statistics, test anxiety/familiarity with online quizzes.\n"
      ],
      "metadata": {
        "colab": {
          "base_uri": "https://localhost:8080/"
        },
        "id": "98qsaDP4Km12",
        "outputId": "26d956dd-8429-4a00-c2f5-d9e3686bf4f1"
      },
      "id": "98qsaDP4Km12",
      "execution_count": 12,
      "outputs": [
        {
          "output_type": "stream",
          "name": "stdout",
          "text": [
            "Categorical columns: ['prior_knowledge', 'teaching_method']\n",
            "Numeric columns: ['score']\n",
            "\n",
            "Independent variable (treatment): teaching_method\n",
            "teaching_method\n",
            "Direct           20\n",
            "Inquiry          20\n",
            "Collaborative    20\n",
            "Name: count, dtype: int64\n",
            "\n",
            "Blocking factor: prior_knowledge\n",
            "prior_knowledge\n",
            "Low     30\n",
            "High    30\n",
            "Name: count, dtype: int64\n",
            "\n",
            "Outcome variable: score\n"
          ]
        }
      ]
    },
    {
      "cell_type": "code",
      "source": [
        "#Question 4\n",
        "\n",
        "#Randomized Block Design is appropriate because prior knowledge is a strong source of variation. Blocking on prior knowledge reduces variability and increases the sensitivity of detecting method differences.\n",
        "\n",
        "#Completely Randomized Design is not appropriate because it ignores prior knowledge, which could confound results and inflate error variance.\n"
      ],
      "metadata": {
        "id": "j0G74bFwNoAj"
      },
      "id": "j0G74bFwNoAj",
      "execution_count": null,
      "outputs": []
    },
    {
      "cell_type": "code",
      "source": [
        "#Question 5\n",
        "#H₀: Mean quiz scores are equal across all teaching methods(μDirect​=μInquiry​=μCollaborative)\n",
        "#H₁: At least one teaching method mean differs.\n"
      ],
      "metadata": {
        "id": "o8X3kF4fOG9j"
      },
      "id": "o8X3kF4fOG9j",
      "execution_count": null,
      "outputs": []
    },
    {
      "cell_type": "code",
      "source": [
        "#Question 6\n",
        "import matplotlib.pyplot as plt\n",
        "\n",
        "# Correct column names from your dataset\n",
        "summary = df.groupby([\"teaching_method\", \"prior_knowledge\"])[\"score\"].agg([\"count\",\"mean\",\"std\"])\n",
        "print(summary)\n",
        "\n",
        "# Boxplot by teaching method\n",
        "df.boxplot(column=\"score\", by=\"teaching_method\")\n",
        "plt.title(\"Quiz Scores by Teaching Method\")\n",
        "plt.suptitle(\"\")\n",
        "plt.show()\n",
        "\n",
        "# Boxplot by prior knowledge\n",
        "df.boxplot(column=\"score\", by=\"prior_knowledge\")\n",
        "plt.title(\"Quiz Scores by Prior Knowledge\")\n",
        "plt.suptitle(\"\")\n",
        "plt.show()\n",
        "\n",
        "#The summaries and plots show differences across methods (and higher performance for High prior knowledge). This suggests the alternative hypothesis is more plausible."
      ],
      "metadata": {
        "colab": {
          "base_uri": "https://localhost:8080/",
          "height": 1000
        },
        "id": "54CNnrnyPUSs",
        "outputId": "ae470976-36a5-4822-fb1d-160b5bac3b43"
      },
      "id": "54CNnrnyPUSs",
      "execution_count": 25,
      "outputs": [
        {
          "output_type": "stream",
          "name": "stdout",
          "text": [
            "                                 count    mean       std\n",
            "teaching_method prior_knowledge                         \n",
            "Collaborative   High                10  90.927  7.970758\n",
            "                Low                 10  82.176  8.168793\n",
            "Direct          High                10  76.998  6.125899\n",
            "                Low                 10  73.659  6.623811\n",
            "Inquiry         High                10  88.624  5.316835\n",
            "                Low                 10  81.903  5.984395\n"
          ]
        },
        {
          "output_type": "display_data",
          "data": {
            "text/plain": [
              "<Figure size 640x480 with 1 Axes>"
            ],
            "image/png": "[encoded data removed]"
          },
          "metadata": {}
        },
        {
          "output_type": "display_data",
          "data": {
            "text/plain": [
              "<Figure size 640x480 with 1 Axes>"
            ],
            "image/png": "[encoded data removed]"
          },
          "metadata": {}
        }
      ]
    },
    {
      "cell_type": "code",
      "source": [
        "#Question 7\n",
        "import statsmodels.formula.api as smf\n",
        "import statsmodels.api as sm\n",
        "from scipy import stats\n",
        "import matplotlib.pyplot as plt\n",
        "\n",
        "# Two-way ANOVA\n",
        "model = smf.ols(\"score ~ C(teaching_method) + C(prior_knowledge)\", data=df).fit()\n",
        "anova_table = sm.stats.anova_lm(model, typ=2)\n",
        "print(anova_table)\n",
        "\n",
        "# QQ plot\n",
        "sm.qqplot(model.resid, line=\"45\")\n",
        "plt.title(\"QQ Plot of Residuals\")\n",
        "plt.show()\n",
        "\n",
        "# Shapiro–Wilk test\n",
        "shapiro_test = stats.shapiro(model.resid)\n",
        "print(f\"Shapiro-Wilk test statistic: {shapiro_test[0]}, p-value: {shapiro_test[1]}\")\n",
        "\n",
        "#Assess normality\n",
        "if shapiro_test[1] > 0.05:\n",
        "    print(\"\\nThe p-value is greater than 0.05, so we do not reject the null hypothesis. The residuals appear to be normally distributed.\")\n",
        "else:\n",
        "    print(\"\\nThe p-value is less than or equal to 0.05, so we reject the null hypothesis. The residuals do not appear to be normally distributed.\")"
      ],
      "metadata": {
        "colab": {
          "base_uri": "https://localhost:8080/",
          "height": 594
        },
        "id": "Y5732osCP2DT",
        "outputId": "826d54c8-54cd-419a-838d-17f6095a70d0"
      },
      "id": "Y5732osCP2DT",
      "execution_count": 27,
      "outputs": [
        {
          "output_type": "stream",
          "name": "stdout",
          "text": [
            "                         sum_sq    df          F    PR(>F)\n",
            "C(teaching_method)  1508.792653   2.0  16.525296  0.000002\n",
            "C(prior_knowledge)   589.756202   1.0  12.918801  0.000687\n",
            "Residual            2556.456163  56.0        NaN       NaN\n"
          ]
        },
        {
          "output_type": "display_data",
          "data": {
            "text/plain": [
              "<Figure size 640x480 with 1 Axes>"
            ],
            "image/png": "[encoded data removed]"
          },
          "metadata": {}
        },
        {
          "output_type": "stream",
          "name": "stdout",
          "text": [
            "Shapiro-Wilk test statistic: 0.9844685588485161, p-value: 0.6424220730040224\n",
            "\n",
            "The p-value is greater than 0.05, so we do not reject the null hypothesis. The residuals appear to be normally distributed.\n"
          ]
        }
      ]
    },
    {
      "cell_type": "code",
      "source": [
        "#Question 8\n",
        "from scipy import stats\n",
        "import matplotlib.pyplot as plt\n",
        "import seaborn as sns # Import seaborn for residuals vs fitted plot\n",
        "\n",
        "# Residuals vs fitted\n",
        "plt.figure(figsize=(8, 6))\n",
        "sns.scatterplot(x=model.fittedvalues, y=model.resid)\n",
        "plt.axhline(0, linestyle=\"--\", color='red')\n",
        "plt.xlabel(\"Fitted values\")\n",
        "plt.ylabel(\"Residuals\")\n",
        "plt.title(\"Residuals vs Fitted Values Plot\")\n",
        "plt.show()\n",
        "\n",
        "\n",
        "# Levene’s test by method\n",
        "groups = [df[df[\"teaching_method\"]==m][\"score\"] for m in df[\"teaching_method\"].unique()]\n",
        "levene_test_method = stats.levene(*groups, center=\"median\")\n",
        "print(f\"Levene's test by teaching method: statistic={levene_test_method[0]:.4f}, p-value={levene_test_method[1]:.4f}\")\n",
        "\n",
        "# Levene's test by prior knowledge (optional but good practice)\n",
        "groups_prior = [df[df[\"prior_knowledge\"]==p][\"score\"] for p in df[\"prior_knowledge\"].unique()]\n",
        "levene_test_prior = stats.levene(*groups_prior, center=\"median\")\n",
        "print(f\"Levene's test by prior knowledge: statistic={levene_test_prior[0]:.4f}, p-value={levene_test_prior[1]:.4f}\")\n",
        "\n",
        "# Assess homogeneity of variance\n",
        "alpha = 0.05\n",
        "print(\"\\nAssess homogeneity of variance:\")\n",
        "if levene_test_method[1] > alpha and levene_test_prior[1] > alpha:\n",
        "    print(\"Both Levene's tests have p-values greater than 0.05. We do not reject the null hypothesis for homogeneity of variance. The assumption appears to be met.\")\n",
        "else:\n",
        "    print(\"At least one Levene's test has a p-value less than or equal to 0.05. We reject the null hypothesis for homogeneity of variance. The assumption may not be met.\")"
      ],
      "metadata": {
        "colab": {
          "base_uri": "https://localhost:8080/",
          "height": 651
        },
        "id": "SzuSB0jxQN3X",
        "outputId": "f69297a8-ab98-4bc0-f263-d7b1956ca18f"
      },
      "id": "SzuSB0jxQN3X",
      "execution_count": 29,
      "outputs": [
        {
          "output_type": "display_data",
          "data": {
            "text/plain": [
              "<Figure size 800x600 with 1 Axes>"
            ],
            "image/png": "[encoded data removed]"
          },
          "metadata": {}
        },
        {
          "output_type": "stream",
          "name": "stdout",
          "text": [
            "Levene's test by teaching method: statistic=1.3531, p-value=0.2666\n",
            "Levene's test by prior knowledge: statistic=0.7419, p-value=0.3926\n",
            "\n",
            "Assess homogeneity of variance:\n",
            "Both Levene's tests have p-values greater than 0.05. We do not reject the null hypothesis for homogeneity of variance. The assumption appears to be met.\n"
          ]
        }
      ]
    },
    {
      "cell_type": "code",
      "source": [
        "#Question 9\n",
        "F_val = anova_table.loc[\"C(teaching_method)\", \"F\"]\n",
        "p_val = anova_table.loc[\"C(teaching_method)\", \"PR(>F)\"]\n",
        "print(\"F =\", F_val, \"p =\", p_val)\n",
        "\n",
        "# F-statistic: 16.53\n",
        "#p-value: 2.29 × 10⁻⁶\n",
        "# Since the p-value is far less than 0.05, we reject the null hypothesis that all teaching methods produce the same mean quiz score. The results support the alternative hypothesis, indicating that at least one teaching method has a significantly different effect on quiz performance.\n",
        "\n"
      ],
      "metadata": {
        "colab": {
          "base_uri": "https://localhost:8080/"
        },
        "id": "eHFQwXPOQrHw",
        "outputId": "f758e4a3-4a27-4d6c-ccb1-160a817f8e75"
      },
      "id": "eHFQwXPOQrHw",
      "execution_count": 30,
      "outputs": [
        {
          "output_type": "stream",
          "name": "stdout",
          "text": [
            "F = 16.525295797855186 p = 2.2878845448373945e-06\n"
          ]
        }
      ]
    },
    {
      "cell_type": "code",
      "source": [
        "#Question 10\n",
        "from statsmodels.stats.multicomp import pairwise_tukeyhsd\n",
        "\n",
        "tukey = pairwise_tukeyhsd(endog=df[\"score\"], groups=df[\"teaching_method\"], alpha=0.05)\n",
        "print(tukey.summary())\n",
        "\n",
        "#Collaborative vs. Direct: Significant difference (mean diff = –11.22, p < 0.001). Collaborative scored lower than Direct.\n",
        "#Collaborative vs. Inquiry: Not significant (mean diff = –1.23, p = 0.848). Scores are similar.\n",
        "#Direct vs. Inquiry: Significant difference (mean diff = 9.94, p < 0.001). Direct scored higher than Inquiry.\n",
        "#Direct Instruction leads to significantly higher quiz scores compared to both Collaborative and Inquiry methods. Collaborative and Inquiry methods do not differ significantly from each other.\n",
        "\n"
      ],
      "metadata": {
        "colab": {
          "base_uri": "https://localhost:8080/"
        },
        "id": "yGd6uoWSRp1R",
        "outputId": "4f259a90-1c1b-48fa-ef24-6af26d7e733c"
      },
      "id": "yGd6uoWSRp1R",
      "execution_count": 31,
      "outputs": [
        {
          "output_type": "stream",
          "name": "stdout",
          "text": [
            "     Multiple Comparison of Means - Tukey HSD, FWER=0.05     \n",
            "=============================================================\n",
            "    group1     group2 meandiff p-adj   lower    upper  reject\n",
            "-------------------------------------------------------------\n",
            "Collaborative  Direct  -11.223    0.0 -16.8766 -5.5694   True\n",
            "Collaborative Inquiry   -1.288 0.8478  -6.9416  4.3656  False\n",
            "       Direct Inquiry    9.935 0.0003   4.2814 15.5886   True\n",
            "-------------------------------------------------------------\n"
          ]
        }
      ]
    },
    {
      "cell_type": "code",
      "source": [
        "#Question 11\n",
        "\n",
        "#Teaching method significantly impacts quiz performance after blocking for prior knowledge.\n",
        "#ANOVA assumptions (normality, homogeneity) are satisfied.\n",
        "#Tukey’s HSD shows which methods differ specifically.\n",
        "#Limitations: One quiz, small sample size, and unmeasured variables (motivation, instructor style).\n",
        "#In conclusion, evidence supports that the teaching method matters for student performance."
      ],
      "metadata": {
        "id": "BXZJXciJSaIn"
      },
      "id": "BXZJXciJSaIn",
      "execution_count": null,
      "outputs": []
    },
    {
      "cell_type": "code",
      "source": [
        "#Part 2, Question 1\n",
        "import pandas as pd\n",
        "\n",
        "# Load dataset\n",
        "df2 = pd.read_excel(\"Online Learning and Engagement.xlsx\")\n",
        "\n",
        "# Clean column names\n",
        "df2.columns = [c.strip().lower().replace(\" \", \"_\") for c in df2.columns]\n",
        "\n",
        "# Preview first rows\n",
        "df2.head()\n",
        "\n",
        "#The objective of this experiment is to determine whether four different online learning platforms (A, B, C, D) differ in their ability to promote student engagement (measured by total logins).\n"
      ],
      "metadata": {
        "colab": {
          "base_uri": "https://localhost:8080/",
          "height": 206
        },
        "id": "Nw3qDCiqTGZd",
        "outputId": "f317ee32-0495-46e9-a9cd-7d5d10adc3d0"
      },
      "id": "Nw3qDCiqTGZd",
      "execution_count": 32,
      "outputs": [
        {
          "output_type": "execute_result",
          "data": {
            "text/plain": [
              "       day          section platform  engagement\n",
              "0   Monday          Morning        A     1374.88\n",
              "1   Monday  Early Afternoon        B     1345.51\n",
              "2   Monday    Mid Afternoon        C     1277.89\n",
              "3   Monday          Evening        D     1370.40\n",
              "4  Tuesday          Morning        A     1357.65"
            ],
            "text/html": [
              "\n",
              "  <div id=\"df-6ba29720-ff1c-457a-b5c2-5eec242ce6b1\" class=\"colab-df-container\">\n",
              "    <div>\n",
              "<style scoped>\n",
              "    .dataframe tbody tr th:only-of-type {\n",
              "        vertical-align: middle;\n",
              "    }\n",
              "\n",
              "    .dataframe tbody tr th {\n",
              "        vertical-align: top;\n",
              "    }\n",
              "\n",
              "    .dataframe thead th {\n",
              "        text-align: right;\n",
              "    }\n",
              "</style>\n",
              "<table border=\"1\" class=\"dataframe\">\n",
              "  <thead>\n",
              "    <tr style=\"text-align: right;\">\n",
              "      <th></th>\n",
              "      <th>day</th>\n",
              "      <th>section</th>\n",
              "      <th>platform</th>\n",
              "      <th>engagement</th>\n",
              "    </tr>\n",
              "  </thead>\n",
              "  <tbody>\n",
              "    <tr>\n",
              "      <th>0</th>\n",
              "      <td>Monday</td>\n",
              "      <td>Morning</td>\n",
              "      <td>A</td>\n",
              "      <td>1374.88</td>\n",
              "    </tr>\n",
              "    <tr>\n",
              "      <th>1</th>\n",
              "      <td>Monday</td>\n",
              "      <td>Early Afternoon</td>\n",
              "      <td>B</td>\n",
              "      <td>1345.51</td>\n",
              "    </tr>\n",
              "    <tr>\n",
              "      <th>2</th>\n",
              "      <td>Monday</td>\n",
              "      <td>Mid Afternoon</td>\n",
              "      <td>C</td>\n",
              "      <td>1277.89</td>\n",
              "    </tr>\n",
              "    <tr>\n",
              "      <th>3</th>\n",
              "      <td>Monday</td>\n",
              "      <td>Evening</td>\n",
              "      <td>D</td>\n",
              "      <td>1370.40</td>\n",
              "    </tr>\n",
              "    <tr>\n",
              "      <th>4</th>\n",
              "      <td>Tuesday</td>\n",
              "      <td>Morning</td>\n",
              "      <td>A</td>\n",
              "      <td>1357.65</td>\n",
              "    </tr>\n",
              "  </tbody>\n",
              "</table>\n",
              "</div>\n",
              "    <div class=\"colab-df-buttons\">\n",
              "\n",
              "  <div class=\"colab-df-container\">\n",
              "    <button class=\"colab-df-convert\" onclick=\"convertToInteractive('df-6ba29720-ff1c-457a-b5c2-5eec242ce6b1')\"\n",
              "            title=\"Convert this dataframe to an interactive table.\"\n",
              "            style=\"display:none;\">\n",
              "\n",
              "  <svg xmlns=\"http://www.w3.org/2000/svg\" height=\"24px\" viewBox=\"0 -960 960 960\">\n",
              "    <path d=\"M120-120v-720h720v720H120Zm60-500h600v-160H180v160Zm220 220h160v-160H400v160Zm0 220h160v-160H400v160ZM180-400h160v-160H180v160Zm440 0h160v-160H620v160ZM180-180h160v-160H180v160Zm440 0h160v-160H620v160Z\"/>\n",
              "  </svg>\n",
              "    </button>\n",
              "\n",
              "  <style>\n",
              "    .colab-df-container {\n",
              "      display:flex;\n",
              "      gap: 12px;\n",
              "    }\n",
              "\n",
              "    .colab-df-convert {\n",
              "      background-color: #E8F0FE;\n",
              "      border: none;\n",
              "      border-radius: 50%;\n",
              "      cursor: pointer;\n",
              "      display: none;\n",
              "      fill: #1967D2;\n",
              "      height: 32px;\n",
              "      padding: 0 0 0 0;\n",
              "      width: 32px;\n",
              "    }\n",
              "\n",
              "    .colab-df-convert:hover {\n",
              "      background-color: #E2EBFA;\n",
              "      box-shadow: 0px 1px 2px rgba(60, 64, 67, 0.3), 0px 1px 3px 1px rgba(60, 64, 67, 0.15);\n",
              "      fill: #174EA6;\n",
              "    }\n",
              "\n",
              "    .colab-df-buttons div {\n",
              "      margin-bottom: 4px;\n",
              "    }\n",
              "\n",
              "    [theme=dark] .colab-df-convert {\n",
              "      background-color: #3B4455;\n",
              "      fill: #D2E3FC;\n",
              "    }\n",
              "\n",
              "    [theme=dark] .colab-df-convert:hover {\n",
              "      background-color: #434B5C;\n",
              "      box-shadow: 0px 1px 3px 1px rgba(0, 0, 0, 0.15);\n",
              "      filter: drop-shadow(0px 1px 2px rgba(0, 0, 0, 0.3));\n",
              "      fill: #FFFFFF;\n",
              "    }\n",
              "  </style>\n",
              "\n",
              "    <script>\n",
              "      const buttonEl =\n",
              "        document.querySelector('#df-6ba29720-ff1c-457a-b5c2-5eec242ce6b1 button.colab-df-convert');\n",
              "      buttonEl.style.display =\n",
              "        google.colab.kernel.accessAllowed ? 'block' : 'none';\n",
              "\n",
              "      async function convertToInteractive(key) {\n",
              "        const element = document.querySelector('#df-6ba29720-ff1c-457a-b5c2-5eec242ce6b1');\n",
              "        const dataTable =\n",
              "          await google.colab.kernel.invokeFunction('convertToInteractive',\n",
              "                                                    [key], {});\n",
              "        if (!dataTable) return;\n",
              "\n",
              "        const docLinkHtml = 'Like what you see? Visit the ' +\n",
              "          '<a target=\"_blank\" href=https://colab.research.google.com/notebooks/data_table.ipynb>data table notebook</a>'\n",
              "          + ' to learn more about interactive tables.';\n",
              "        element.innerHTML = '';\n",
              "        dataTable['output_type'] = 'display_data';\n",
              "        await google.colab.output.renderOutput(dataTable, element);\n",
              "        const docLink = document.createElement('div');\n",
              "        docLink.innerHTML = docLinkHtml;\n",
              "        element.appendChild(docLink);\n",
              "      }\n",
              "    </script>\n",
              "  </div>\n",
              "\n",
              "\n",
              "    <div id=\"df-ee97b64b-5412-4ca6-b40c-a71efd9622dd\">\n",
              "      <button class=\"colab-df-quickchart\" onclick=\"quickchart('df-ee97b64b-5412-4ca6-b40c-a71efd9622dd')\"\n",
              "                title=\"Suggest charts\"\n",
              "                style=\"display:none;\">\n",
              "\n",
              "<svg xmlns=\"http://www.w3.org/2000/svg\" height=\"24px\"viewBox=\"0 0 24 24\"\n",
              "     width=\"24px\">\n",
              "    <g>\n",
              "        <path d=\"M19 3H5c-1.1 0-2 .9-2 2v14c0 1.1.9 2 2 2h14c1.1 0 2-.9 2-2V5c0-1.1-.9-2-2-2zM9 17H7v-7h2v7zm4 0h-2V7h2v10zm4 0h-2v-4h2v4z\"/>\n",
              "    </g>\n",
              "</svg>\n",
              "      </button>\n",
              "\n",
              "<style>\n",
              "  .colab-df-quickchart {\n",
              "      --bg-color: #E8F0FE;\n",
              "      --fill-color: #1967D2;\n",
              "      --hover-bg-color: #E2EBFA;\n",
              "      --hover-fill-color: #174EA6;\n",
              "      --disabled-fill-color: #AAA;\n",
              "      --disabled-bg-color: #DDD;\n",
              "  }\n",
              "\n",
              "  [theme=dark] .colab-df-quickchart {\n",
              "      --bg-color: #3B4455;\n",
              "      --fill-color: #D2E3FC;\n",
              "      --hover-bg-color: #434B5C;\n",
              "      --hover-fill-color: #FFFFFF;\n",
              "      --disabled-bg-color: #3B4455;\n",
              "      --disabled-fill-color: #666;\n",
              "  }\n",
              "\n",
              "  .colab-df-quickchart {\n",
              "    background-color: var(--bg-color);\n",
              "    border: none;\n",
              "    border-radius: 50%;\n",
              "    cursor: pointer;\n",
              "    display: none;\n",
              "    fill: var(--fill-color);\n",
              "    height: 32px;\n",
              "    padding: 0;\n",
              "    width: 32px;\n",
              "  }\n",
              "\n",
              "  .colab-df-quickchart:hover {\n",
              "    background-color: var(--hover-bg-color);\n",
              "    box-shadow: 0 1px 2px rgba(60, 64, 67, 0.3), 0 1px 3px 1px rgba(60, 64, 67, 0.15);\n",
              "    fill: var(--button-hover-fill-color);\n",
              "  }\n",
              "\n",
              "  .colab-df-quickchart-complete:disabled,\n",
              "  .colab-df-quickchart-complete:disabled:hover {\n",
              "    background-color: var(--disabled-bg-color);\n",
              "    fill: var(--disabled-fill-color);\n",
              "    box-shadow: none;\n",
              "  }\n",
              "\n",
              "  .colab-df-spinner {\n",
              "    border: 2px solid var(--fill-color);\n",
              "    border-color: transparent;\n",
              "    border-bottom-color: var(--fill-color);\n",
              "    animation:\n",
              "      spin 1s steps(1) infinite;\n",
              "  }\n",
              "\n",
              "  @keyframes spin {\n",
              "    0% {\n",
              "      border-color: transparent;\n",
              "      border-bottom-color: var(--fill-color);\n",
              "      border-left-color: var(--fill-color);\n",
              "    }\n",
              "    20% {\n",
              "      border-color: transparent;\n",
              "      border-left-color: var(--fill-color);\n",
              "      border-top-color: var(--fill-color);\n",
              "    }\n",
              "    30% {\n",
              "      border-color: transparent;\n",
              "      border-left-color: var(--fill-color);\n",
              "      border-top-color: var(--fill-color);\n",
              "      border-right-color: var(--fill-color);\n",
              "    }\n",
              "    40% {\n",
              "      border-color: transparent;\n",
              "      border-right-color: var(--fill-color);\n",
              "      border-top-color: var(--fill-color);\n",
              "    }\n",
              "    60% {\n",
              "      border-color: transparent;\n",
              "      border-right-color: var(--fill-color);\n",
              "    }\n",
              "    80% {\n",
              "      border-color: transparent;\n",
              "      border-right-color: var(--fill-color);\n",
              "      border-bottom-color: var(--fill-color);\n",
              "    }\n",
              "    90% {\n",
              "      border-color: transparent;\n",
              "      border-bottom-color: var(--fill-color);\n",
              "    }\n",
              "  }\n",
              "</style>\n",
              "\n",
              "      <script>\n",
              "        async function quickchart(key) {\n",
              "          const quickchartButtonEl =\n",
              "            document.querySelector('#' + key + ' button');\n",
              "          quickchartButtonEl.disabled = true;  // To prevent multiple clicks.\n",
              "          quickchartButtonEl.classList.add('colab-df-spinner');\n",
              "          try {\n",
              "            const charts = await google.colab.kernel.invokeFunction(\n",
              "                'suggestCharts', [key], {});\n",
              "          } catch (error) {\n",
              "            console.error('Error during call to suggestCharts:', error);\n",
              "          }\n",
              "          quickchartButtonEl.classList.remove('colab-df-spinner');\n",
              "          quickchartButtonEl.classList.add('colab-df-quickchart-complete');\n",
              "        }\n",
              "        (() => {\n",
              "          let quickchartButtonEl =\n",
              "            document.querySelector('#df-ee97b64b-5412-4ca6-b40c-a71efd9622dd button');\n",
              "          quickchartButtonEl.style.display =\n",
              "            google.colab.kernel.accessAllowed ? 'block' : 'none';\n",
              "        })();\n",
              "      </script>\n",
              "    </div>\n",
              "\n",
              "    </div>\n",
              "  </div>\n"
            ],
            "application/vnd.google.colaboratory.intrinsic+json": {
              "type": "dataframe",
              "variable_name": "df2",
              "summary": "{\n  \"name\": \"df2\",\n  \"rows\": 16,\n  \"fields\": [\n    {\n      \"column\": \"day\",\n      \"properties\": {\n        \"dtype\": \"category\",\n        \"num_unique_values\": 4,\n        \"samples\": [\n          \"Tuesday\",\n          \"Thursday\",\n          \"Monday\"\n        ],\n        \"semantic_type\": \"\",\n        \"description\": \"\"\n      }\n    },\n    {\n      \"column\": \"section\",\n      \"properties\": {\n        \"dtype\": \"category\",\n        \"num_unique_values\": 4,\n        \"samples\": [\n          \"Early Afternoon\",\n          \"Evening\",\n          \"Morning\"\n        ],\n        \"semantic_type\": \"\",\n        \"description\": \"\"\n      }\n    },\n    {\n      \"column\": \"platform\",\n      \"properties\": {\n        \"dtype\": \"category\",\n        \"num_unique_values\": 4,\n        \"samples\": [\n          \"B\",\n          \"D\",\n          \"A\"\n        ],\n        \"semantic_type\": \"\",\n        \"description\": \"\"\n      }\n    },\n    {\n      \"column\": \"engagement\",\n      \"properties\": {\n        \"dtype\": \"number\",\n        \"std\": 35.984107580060055,\n        \"min\": 1277.89,\n        \"max\": 1397.12,\n        \"num_unique_values\": 16,\n        \"samples\": [\n          1374.88,\n          1345.51,\n          1288.86\n        ],\n        \"semantic_type\": \"\",\n        \"description\": \"\"\n      }\n    }\n  ]\n}"
            }
          },
          "metadata": {},
          "execution_count": 32
        }
      ]
    },
    {
      "cell_type": "code",
      "source": [
        "#Part 2, Question 2\n",
        "# Identify numeric columns\n",
        "numeric_cols = df2.select_dtypes(include=\"number\").columns.tolist()\n",
        "print(\"Numeric columns:\", numeric_cols)\n",
        "\n",
        "# Quick stats to confirm\n",
        "print(df2[numeric_cols].describe())\n",
        "#The outcome variable is the total number of student logins to the online learning platform for each course section across the semester. This numeric measure serves as the indicator of student engagement."
      ],
      "metadata": {
        "colab": {
          "base_uri": "https://localhost:8080/"
        },
        "id": "QGY0XUZXTZ3U",
        "outputId": "5aa7afb1-44ac-4130-c198-0c42e347267a"
      },
      "id": "QGY0XUZXTZ3U",
      "execution_count": 33,
      "outputs": [
        {
          "output_type": "stream",
          "name": "stdout",
          "text": [
            "Numeric columns: ['engagement']\n",
            "        engagement\n",
            "count    16.000000\n",
            "mean   1345.668750\n",
            "std      35.984108\n",
            "min    1277.890000\n",
            "25%    1323.595000\n",
            "50%    1353.325000\n",
            "75%    1371.520000\n",
            "max    1397.120000\n"
          ]
        }
      ]
    },
    {
      "cell_type": "code",
      "source": [
        "#Part 2, Question 3\n",
        "# Identify categorical columns\n",
        "cat_cols = [c for c in df2.columns if df2[c].dtype == \"object\"]\n",
        "print(\"Categorical columns:\", cat_cols)\n",
        "\n",
        "# Preview levels for each\n",
        "for c in cat_cols:\n",
        "    print(f\"\\nLevels in {c}:\")\n",
        "    print(df2[c].value_counts())\n",
        "#Independent Variable: The online learning platform\n",
        "#Blocking Factors: Day of the week & time of day. These two account for scheduling effects that might otherwise confound the results.\n",
        "#Possible Lurking Variables: Student motivation, internet connectivity, outside obligations / workload affecting login behavior, & instrustor's style of delivery within the platform."
      ],
      "metadata": {
        "colab": {
          "base_uri": "https://localhost:8080/"
        },
        "id": "aMmOw10nTxiD",
        "outputId": "692bb1ba-88f8-4083-907b-8520160332a4"
      },
      "id": "aMmOw10nTxiD",
      "execution_count": 34,
      "outputs": [
        {
          "output_type": "stream",
          "name": "stdout",
          "text": [
            "Categorical columns: ['day', 'section', 'platform']\n",
            "\n",
            "Levels in day:\n",
            "day\n",
            "Monday       4\n",
            "Tuesday      4\n",
            "Wednesday    4\n",
            "Thursday     4\n",
            "Name: count, dtype: int64\n",
            "\n",
            "Levels in section:\n",
            "section\n",
            "Morning            4\n",
            "Early Afternoon    4\n",
            "Mid Afternoon      4\n",
            "Evening            4\n",
            "Name: count, dtype: int64\n",
            "\n",
            "Levels in platform:\n",
            "platform\n",
            "A    4\n",
            "B    4\n",
            "C    4\n",
            "D    4\n",
            "Name: count, dtype: int64\n"
          ]
        }
      ]
    },
    {
      "cell_type": "code",
      "source": [
        "#Part 2, Question 4\n",
        "# A Latin Square design is ideal when there is one treatment factor of interest and two blocking factors (Day of the Week and Time of Day). It ensures that each platform appears once in every row (Day) and once in every column (Section/Time of Day), controlling for both confounders simultaneously.\n",
        "# In Completely Randomized Designs, platforms could be assigned unevenly across days or times. For example, Platform A might appear mostly in morning classes, creating bias from time-of-day effects. It cannot account for two systematic sources of variation.\n",
        "# Randomized Block Design controls only one blocking factor (like Day or Time). In this study, both factors are important. Ignoring one would leave residual confounding and inflate error variance."
      ],
      "metadata": {
        "id": "Tx3vOAWrUxHi"
      },
      "id": "Tx3vOAWrUxHi",
      "execution_count": null,
      "outputs": []
    },
    {
      "cell_type": "code",
      "source": [
        "# Part 2, Question 5\n",
        "# Treatment is the platform (A, B, C, D)\n",
        "treatment_col = \"platform\"\n",
        "\n",
        "# Peek the unique levels to reference in the hypotheses\n",
        "print(\"Treatment levels:\", sorted(df2[treatment_col].unique()))\n",
        "\n",
        "#Let μA, μB, μC, and μD be the mean engagement (total logins) for Platforms A–D after controlling for Day and Section.\n",
        "#Null Hypothesis: μA = μB = μC = μD →The platforms have the same mean engagement\n",
        "#Alternative Hypothesis: μi does not equal μj and at least one platform’s mean engagement differs.\n"
      ],
      "metadata": {
        "colab": {
          "base_uri": "https://localhost:8080/"
        },
        "id": "Al1ukNrmVXWU",
        "outputId": "84728555-eb66-4eca-bad6-78c10f326ff2"
      },
      "id": "Al1ukNrmVXWU",
      "execution_count": 35,
      "outputs": [
        {
          "output_type": "stream",
          "name": "stdout",
          "text": [
            "Treatment levels: ['A', 'B', 'C', 'D']\n"
          ]
        }
      ]
    },
    {
      "cell_type": "code",
      "source": [
        "#Part 2, Question 6\n",
        "import matplotlib.pyplot as plt\n",
        "\n",
        "# Summary by platform\n",
        "summary_platform = df2.groupby(\"platform\")[\"engagement\"].agg([\"count\",\"mean\",\"std\"])\n",
        "print(\"Summary by Platform:\\n\", summary_platform)\n",
        "\n",
        "# Summary by day\n",
        "summary_day = df2.groupby(\"day\")[\"engagement\"].agg([\"count\",\"mean\",\"std\"])\n",
        "print(\"\\nSummary by Day:\\n\", summary_day)\n",
        "\n",
        "# Summary by section\n",
        "summary_section = df2.groupby(\"section\")[\"engagement\"].agg([\"count\",\"mean\",\"std\"])\n",
        "print(\"\\nSummary by Section:\\n\", summary_section)\n",
        "\n",
        "# Boxplots\n",
        "df2.boxplot(column=\"engagement\", by=\"platform\")\n",
        "plt.title(\"Student Engagement by Platform\")\n",
        "plt.suptitle(\"\")\n",
        "plt.show()\n",
        "\n",
        "df2.boxplot(column=\"engagement\", by=\"day\")\n",
        "plt.title(\"Student Engagement by Day\")\n",
        "plt.suptitle(\"\")\n",
        "plt.show()\n",
        "\n",
        "df2.boxplot(column=\"engagement\", by=\"section\")\n",
        "plt.title(\"Student Engagement by Time of Day\")\n",
        "plt.suptitle(\"\")\n",
        "plt.show()\n",
        "\n",
        "#By Platform:\n",
        "  #Platform A (mean ≈ 1,378) and D (mean ≈ 1,370) have the highest engagement.\n",
        "  #Platform B (mean ≈ 1,331) and C (mean ≈ 1,304) show lower engagement.\n",
        "  #Variability is relatively small compared to mean differences, but the spread is wider for Platform B.\n",
        "#By Day:\n",
        "  #Mean engagement is relatively balanced across days, ranging from ≈1,333 (Tuesday) to ≈1,356 (Wednesday).\n",
        "  #Day-to-day variation is modest, suggesting the block (day) effect is weaker than platform effects.\n",
        "#By Section (Time of Day):\n",
        "  #Morning (≈1,378) and Evening (≈1,370) have the highest engagement.\n",
        "  #Early Afternoon (≈1,331) is moderate.\n",
        "  #Mid Afternoon (≈1,304) shows the lowest engagement.\n",
        "  #This indicates that time of day matters, which validates using Latin Square.\n",
        "\n",
        "#The exploratory analysis suggests that platform differences are visible, with Platforms A and D outperforming B and C. Day effects appear minor, while section (time of day) shows more noticeable differences (Morning/Evening > Mid Afternoon).\n",
        "#These results lean toward supporting the alternative hypothesis, that at least one platform differs significantly in engagement.\n"
      ],
      "metadata": {
        "colab": {
          "base_uri": "https://localhost:8080/",
          "height": 1000
        },
        "id": "nu214xI6WgO5",
        "outputId": "7970858d-f72a-4dce-e754-bd321b7072c9"
      },
      "id": "nu214xI6WgO5",
      "execution_count": 43,
      "outputs": [
        {
          "output_type": "stream",
          "name": "stdout",
          "text": [
            "Summary by Platform:\n",
            "           count       mean        std\n",
            "platform                             \n",
            "A             4  1377.7675  16.339232\n",
            "B             4  1331.2625  28.513652\n",
            "C             4  1303.8225  21.022768\n",
            "D             4  1369.8225  13.753119\n",
            "\n",
            "Summary by Day:\n",
            "            count       mean        std\n",
            "day                                   \n",
            "Monday         4  1342.1700  44.758429\n",
            "Thursday       4  1351.4525  29.891172\n",
            "Tuesday        4  1333.4475  47.745099\n",
            "Wednesday      4  1355.6050  30.102796\n",
            "\n",
            "Summary by Section:\n",
            "                  count       mean        std\n",
            "section                                     \n",
            "Early Afternoon      4  1331.2625  28.513652\n",
            "Evening              4  1369.8225  13.753119\n",
            "Mid Afternoon        4  1303.8225  21.022768\n",
            "Morning              4  1377.7675  16.339232\n"
          ]
        },
        {
          "output_type": "display_data",
          "data": {
            "text/plain": [
              "<Figure size 640x480 with 1 Axes>"
            ],
            "image/png": "[encoded data removed]"
          },
          "metadata": {}
        },
        {
          "output_type": "display_data",
          "data": {
            "text/plain": [
              "<Figure size 640x480 with 1 Axes>"
            ],
            "image/png": "[encoded data removed]"
          },
          "metadata": {}
        },
        {
          "output_type": "display_data",
          "data": {
            "text/plain": [
              "<Figure size 640x480 with 1 Axes>"
            ],
            "image/png": "[encoded data removed]"
          },
          "metadata": {}
        }
      ]
    },
    {
      "cell_type": "code",
      "source": [
        "#Part 2, Question 7\n",
        "import statsmodels.api as sm\n",
        "import statsmodels.formula.api as smf\n",
        "from scipy import stats\n",
        "import matplotlib.pyplot as plt\n",
        "\n",
        "# Three-way ANOVA (Latin Square: platform + day + section)\n",
        "model2 = smf.ols(\"engagement ~ C(platform) + C(day) + C(section)\", data=df2).fit()\n",
        "anova_table2 = sm.stats.anova_lm(model2, typ=2)\n",
        "print(anova_table2)\n",
        "\n",
        "# Normality check: QQ plot\n",
        "sm.qqplot(model2.resid, line=\"45\")\n",
        "plt.title(\"QQ Plot of Residuals\")\n",
        "plt.show()\n",
        "\n",
        "# Shapiro–Wilk test\n",
        "shapiro_stat, shapiro_p = stats.shapiro(model2.resid)\n",
        "print(f\"Shapiro-Wilk test: W={shapiro_stat:.4f}, p={shapiro_p:.4f}\")\n",
        "\n",
        "#ANOVA Results (Platform, Day, Section):\n",
        "  #Platform Effect: F≈1,639.53, p<0.001  → highly significant.\n",
        "  #Day Effect: F≈0.89, p=0.482 → not significant.\n",
        "  #Section Effect: F≈1,845.18, p<0.001 → highly significant.\n",
        "#Normality Assumption:\n",
        "  #QQ Plot: Residuals align well with the 45° reference line, showing no major departures from normality.\n",
        "  #Shapiro–Wilk Test: W=0.9752, p=0.9138. Since p>0.05, we fail to reject normality.\n",
        "\n",
        " #The normality assumption is supported. ANOVA results are valid.\n",
        "\n"
      ],
      "metadata": {
        "colab": {
          "base_uri": "https://localhost:8080/",
          "height": 576
        },
        "id": "S3LPcDIqYaJP",
        "outputId": "893282bb-2984-4806-93f1-79129916c553"
      },
      "id": "S3LPcDIqYaJP",
      "execution_count": 44,
      "outputs": [
        {
          "output_type": "stream",
          "name": "stdout",
          "text": [
            "                   sum_sq   df            F        PR(>F)\n",
            "C(platform)  2.163185e+06  3.0  1639.526583  1.229404e-12\n",
            "C(day)       1.175124e+03  3.0     0.890653  4.823487e-01\n",
            "C(section)   2.434522e+06  3.0  1845.179206  7.230832e-13\n",
            "Residual     3.958188e+03  9.0          NaN           NaN\n"
          ]
        },
        {
          "output_type": "display_data",
          "data": {
            "text/plain": [
              "<Figure size 640x480 with 1 Axes>"
            ],
            "image/png": "[encoded data removed]"
          },
          "metadata": {}
        },
        {
          "output_type": "stream",
          "name": "stdout",
          "text": [
            "Shapiro-Wilk test: W=0.9752, p=0.9138\n"
          ]
        }
      ]
    },
    {
      "cell_type": "code",
      "source": [
        "#Part 2, Question 8\n",
        "import matplotlib.pyplot as plt\n",
        "from scipy.stats import levene\n",
        "\n",
        "# Residuals vs fitted plot\n",
        "plt.scatter(model2.fittedvalues, model2.resid)\n",
        "plt.axhline(0, linestyle=\"--\", color=\"blue\")\n",
        "plt.xlabel(\"Fitted Values\")\n",
        "plt.ylabel(\"Residuals\")\n",
        "plt.title(\"Residuals vs Fitted Values\")\n",
        "plt.show()\n",
        "\n",
        "# Levene’s test across platform groups\n",
        "groups = [df2[df2[\"platform\"]==p][\"engagement\"] for p in df2[\"platform\"].unique()]\n",
        "levene_stat, levene_p = levene(*groups, center=\"median\")\n",
        "print(f\"Levene’s test: W={levene_stat:.4f}, p={levene_p:.4f}\")\n",
        "\n",
        "#The Residuals vs Fitted values plot shows residuals scattered fairly evenly around zero with no funneling or curvature. This suggests that variance is stable across fitted values.\n",
        "#Levene's Test: W=0.1796, p=0.9082\n",
        "  #Since p>0.05, we failt to reject the null hypothesis of equal variances.\n",
        "#Both tests confirm that the assumption of homogeneity is satisfied.\n"
      ],
      "metadata": {
        "colab": {
          "base_uri": "https://localhost:8080/",
          "height": 489
        },
        "id": "7rESCqJ4Z_8K",
        "outputId": "37a3320b-3e17-4fbc-a833-032af4768ba6"
      },
      "id": "7rESCqJ4Z_8K",
      "execution_count": 45,
      "outputs": [
        {
          "output_type": "display_data",
          "data": {
            "text/plain": [
              "<Figure size 640x480 with 1 Axes>"
            ],
            "image/png": "[encoded data removed]"
          },
          "metadata": {}
        },
        {
          "output_type": "stream",
          "name": "stdout",
          "text": [
            "Levene’s test: W=0.1796, p=0.9082\n"
          ]
        }
      ]
    },
    {
      "cell_type": "code",
      "source": [
        "#Part 2, Question 9\n",
        "# Extract F and p-value for the treatment effect (platform)\n",
        "F_val2 = anova_table2.loc[\"C(platform)\", \"F\"]\n",
        "p_val2 = anova_table2.loc[\"C(platform)\", \"PR(>F)\"]\n",
        "print(f\"F = {F_val2:.4f}, p = {p_val2:.4e}\")\n",
        "#F-statistic (platform): 1,639.5266\n",
        "#p-value:1.23 × 10⁻¹²\n",
        "  #Since our p-value is smaller than 0.05, we reject the null hypothesis & support the alternative hypothesis of student engagement significantly differs across at least one pair of online learning platforms."
      ],
      "metadata": {
        "colab": {
          "base_uri": "https://localhost:8080/"
        },
        "id": "ZUkFCqjya9Zy",
        "outputId": "7de75e41-f9dc-4803-e1c4-11cfc5471e7c"
      },
      "id": "ZUkFCqjya9Zy",
      "execution_count": 46,
      "outputs": [
        {
          "output_type": "stream",
          "name": "stdout",
          "text": [
            "F = 1639.5266, p = 1.2294e-12\n"
          ]
        }
      ]
    },
    {
      "cell_type": "code",
      "source": [
        "#Part 2, Question 10\n",
        "from statsmodels.stats.multicomp import pairwise_tukeyhsd\n",
        "\n",
        "# Tukey's HSD post-hoc test for platform\n",
        "tukey2 = pairwise_tukeyhsd(endog=df2[\"engagement\"],\n",
        "                           groups=df2[\"platform\"],\n",
        "                           alpha=0.05)\n",
        "print(tukey2.summary())\n",
        "\n",
        "#Engagement on Platform B is significantly higher than Platform A.\n",
        "#Engagement on Platform D is significantly higher than Platform C.\n",
        "#Other platform comparisons do not show statistically significant differences.\n",
        "#Tukey’s HSD confirms that differences exist between certain platform pairs (B > A and D > C), strengthening the evidence that platform choice influences engagement.\n",
        "\n"
      ],
      "metadata": {
        "colab": {
          "base_uri": "https://localhost:8080/"
        },
        "id": "NZ_Js4mvb1CL",
        "outputId": "5bf72043-2ff0-40cc-a0c9-eec9037b13b8"
      },
      "id": "NZ_Js4mvb1CL",
      "execution_count": 47,
      "outputs": [
        {
          "output_type": "stream",
          "name": "stdout",
          "text": [
            "  Multiple Comparison of Means - Tukey HSD, FWER=0.05  \n",
            "=======================================================\n",
            "group1 group2 meandiff p-adj    lower    upper   reject\n",
            "-------------------------------------------------------\n",
            "     A      B  -46.505 0.0347  -89.9249  -3.0851   True\n",
            "     A      C  -73.945 0.0014 -117.3649 -30.5251   True\n",
            "     A      D   -7.945 0.9466  -51.3649  35.4749  False\n",
            "     B      C   -27.44 0.2879  -70.8599  15.9799  False\n",
            "     B      D    38.56 0.0881   -4.8599  81.9799  False\n",
            "     C      D     66.0 0.0034   22.5801 109.4199   True\n",
            "-------------------------------------------------------\n"
          ]
        }
      ]
    },
    {
      "cell_type": "code",
      "source": [
        "#Part 2, Question 11\n",
        "#This experiment evaluated the effect of four online learning platforms (A, B, C, D) on student engagement, measured by total logins. A Latin Square design was used to control for the nuisance variables of Day of the Week and Time of Day.\n",
        "#Findings:\n",
        "  #ANOVA results showed that platform choice had a highly significant effect on engagement (F = 1,639.53, p < 0.001), while Day was not significant and Section (time of day) was significant.\n",
        "  #Assumption checks confirmed that normality and homogeneity of variance were satisfied.\n",
        "  #Post-hoc analysis (Tukey’s HSD):\n",
        "    #Platform B > A in engagement.\n",
        "    #Platform D > C in engagement.\n",
        "    #Other pairwise comparisons were not significant.\n",
        "\n",
        "#The results strongly suggest that student engagement differs across platforms, with certain platforms (B and D) associated with higher engagement. The Latin Square design effectively controlled for time and day effects, reinforcing confidence that observed differences are due to the platforms themselves.\n",
        "#Limitations:\n",
        "  #Engagement was measured only by logins, which may not fully capture learning quality or depth of interaction.\n",
        "  #Sample size per cell is small (n=4), which may limit generalizability.\n",
        "  #Other unmeasured factors (e.g., instructor style, student motivation, course difficulty) could influence outcomes.\n",
        "\n",
        "#Platform choice appears to play a significant role in student engagement. Further studies could expand sample size and incorporate additional measures of learning to confirm and generalize these results.\n"
      ],
      "metadata": {
        "id": "GwUnCzmRcw3M"
      },
      "id": "GwUnCzmRcw3M",
      "execution_count": null,
      "outputs": []
    }
  ],
  "metadata": {
    "language_info": {
      "name": "python"
    },
    "colab": {
      "provenance": []
    },
    "kernelspec": {
      "name": "python3",
      "display_name": "Python 3"
    }
  },
  "nbformat": 4,
  "nbformat_minor": 5
}